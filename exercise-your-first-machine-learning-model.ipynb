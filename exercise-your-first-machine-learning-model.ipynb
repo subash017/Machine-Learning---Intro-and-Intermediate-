{
 "cells": [
  {
   "cell_type": "markdown",
   "id": "9fb13b03",
   "metadata": {
    "papermill": {
     "duration": 0.006828,
     "end_time": "2022-09-30T13:05:40.621945",
     "exception": false,
     "start_time": "2022-09-30T13:05:40.615117",
     "status": "completed"
    },
    "tags": []
   },
   "source": [
    "**This notebook is an exercise in the [Introduction to Machine Learning](https://www.kaggle.com/learn/intro-to-machine-learning) course.  You can reference the tutorial at [this link](https://www.kaggle.com/dansbecker/your-first-machine-learning-model).**\n",
    "\n",
    "---\n"
   ]
  },
  {
   "cell_type": "markdown",
   "id": "96a902b7",
   "metadata": {
    "papermill": {
     "duration": 0.005087,
     "end_time": "2022-09-30T13:05:40.632783",
     "exception": false,
     "start_time": "2022-09-30T13:05:40.627696",
     "status": "completed"
    },
    "tags": []
   },
   "source": [
    "## Recap\n",
    "So far, you have loaded your data and reviewed it with the following code. Run this cell to set up your coding environment where the previous step left off."
   ]
  },
  {
   "cell_type": "code",
   "execution_count": 1,
   "id": "4198334a",
   "metadata": {
    "execution": {
     "iopub.execute_input": "2022-09-30T13:05:40.645852Z",
     "iopub.status.busy": "2022-09-30T13:05:40.645339Z",
     "iopub.status.idle": "2022-09-30T13:05:42.255655Z",
     "shell.execute_reply": "2022-09-30T13:05:42.253491Z"
    },
    "papermill": {
     "duration": 1.620935,
     "end_time": "2022-09-30T13:05:42.259349",
     "exception": false,
     "start_time": "2022-09-30T13:05:40.638414",
     "status": "completed"
    },
    "tags": []
   },
   "outputs": [
    {
     "name": "stdout",
     "output_type": "stream",
     "text": [
      "Setup Complete\n"
     ]
    }
   ],
   "source": [
    "# Code you have previously used to load data\n",
    "import pandas as pd\n",
    "\n",
    "# Path of the file to read\n",
    "iowa_file_path = '../input/home-data-for-ml-course/train.csv'\n",
    "\n",
    "home_data = pd.read_csv(iowa_file_path)\n",
    "\n",
    "# Set up code checking\n",
    "from learntools.core import binder\n",
    "binder.bind(globals())\n",
    "from learntools.machine_learning.ex3 import *\n",
    "\n",
    "print(\"Setup Complete\")"
   ]
  },
  {
   "cell_type": "markdown",
   "id": "06c79dfb",
   "metadata": {
    "papermill": {
     "duration": 0.005187,
     "end_time": "2022-09-30T13:05:42.270333",
     "exception": false,
     "start_time": "2022-09-30T13:05:42.265146",
     "status": "completed"
    },
    "tags": []
   },
   "source": [
    "# Exercises\n",
    "\n",
    "## Step 1: Specify Prediction Target\n",
    "Select the target variable, which corresponds to the sales price. Save this to a new variable called `y`. You'll need to print a list of the columns to find the name of the column you need.\n"
   ]
  },
  {
   "cell_type": "code",
   "execution_count": 2,
   "id": "37c0fa66",
   "metadata": {
    "execution": {
     "iopub.execute_input": "2022-09-30T13:05:42.284404Z",
     "iopub.status.busy": "2022-09-30T13:05:42.283895Z",
     "iopub.status.idle": "2022-09-30T13:05:42.291853Z",
     "shell.execute_reply": "2022-09-30T13:05:42.290280Z"
    },
    "papermill": {
     "duration": 0.019846,
     "end_time": "2022-09-30T13:05:42.296098",
     "exception": false,
     "start_time": "2022-09-30T13:05:42.276252",
     "status": "completed"
    },
    "tags": []
   },
   "outputs": [
    {
     "name": "stdout",
     "output_type": "stream",
     "text": [
      "Index(['Id', 'MSSubClass', 'MSZoning', 'LotFrontage', 'LotArea', 'Street',\n",
      "       'Alley', 'LotShape', 'LandContour', 'Utilities', 'LotConfig',\n",
      "       'LandSlope', 'Neighborhood', 'Condition1', 'Condition2', 'BldgType',\n",
      "       'HouseStyle', 'OverallQual', 'OverallCond', 'YearBuilt', 'YearRemodAdd',\n",
      "       'RoofStyle', 'RoofMatl', 'Exterior1st', 'Exterior2nd', 'MasVnrType',\n",
      "       'MasVnrArea', 'ExterQual', 'ExterCond', 'Foundation', 'BsmtQual',\n",
      "       'BsmtCond', 'BsmtExposure', 'BsmtFinType1', 'BsmtFinSF1',\n",
      "       'BsmtFinType2', 'BsmtFinSF2', 'BsmtUnfSF', 'TotalBsmtSF', 'Heating',\n",
      "       'HeatingQC', 'CentralAir', 'Electrical', '1stFlrSF', '2ndFlrSF',\n",
      "       'LowQualFinSF', 'GrLivArea', 'BsmtFullBath', 'BsmtHalfBath', 'FullBath',\n",
      "       'HalfBath', 'BedroomAbvGr', 'KitchenAbvGr', 'KitchenQual',\n",
      "       'TotRmsAbvGrd', 'Functional', 'Fireplaces', 'FireplaceQu', 'GarageType',\n",
      "       'GarageYrBlt', 'GarageFinish', 'GarageCars', 'GarageArea', 'GarageQual',\n",
      "       'GarageCond', 'PavedDrive', 'WoodDeckSF', 'OpenPorchSF',\n",
      "       'EnclosedPorch', '3SsnPorch', 'ScreenPorch', 'PoolArea', 'PoolQC',\n",
      "       'Fence', 'MiscFeature', 'MiscVal', 'MoSold', 'YrSold', 'SaleType',\n",
      "       'SaleCondition', 'SalePrice'],\n",
      "      dtype='object')\n"
     ]
    }
   ],
   "source": [
    "# print the list of columns in the dataset to find the name of the prediction target\n",
    "print(home_data.columns)\n"
   ]
  },
  {
   "cell_type": "code",
   "execution_count": 3,
   "id": "dd10fde8",
   "metadata": {
    "execution": {
     "iopub.execute_input": "2022-09-30T13:05:42.311436Z",
     "iopub.status.busy": "2022-09-30T13:05:42.310160Z",
     "iopub.status.idle": "2022-09-30T13:05:42.331195Z",
     "shell.execute_reply": "2022-09-30T13:05:42.329617Z"
    },
    "papermill": {
     "duration": 0.031352,
     "end_time": "2022-09-30T13:05:42.333983",
     "exception": false,
     "start_time": "2022-09-30T13:05:42.302631",
     "status": "completed"
    },
    "tags": []
   },
   "outputs": [
    {
     "data": {
      "application/javascript": [
       "parent.postMessage({\"jupyterEvent\": \"custom.exercise_interaction\", \"data\": {\"outcomeType\": 1, \"valueTowardsCompletion\": 0.25, \"interactionType\": 1, \"questionType\": 2, \"questionId\": \"1_SetTarget\", \"learnToolsVersion\": \"0.3.4\", \"failureMessage\": \"\", \"exceptionClass\": \"\", \"trace\": \"\"}}, \"*\")"
      ],
      "text/plain": [
       "<IPython.core.display.Javascript object>"
      ]
     },
     "metadata": {},
     "output_type": "display_data"
    },
    {
     "data": {
      "text/markdown": [
       "<span style=\"color:#33cc33\">Correct</span>"
      ],
      "text/plain": [
       "Correct"
      ]
     },
     "metadata": {},
     "output_type": "display_data"
    }
   ],
   "source": [
    "y = home_data.SalePrice\n",
    "\n",
    "# Check your answer\n",
    "step_1.check()"
   ]
  },
  {
   "cell_type": "code",
   "execution_count": 4,
   "id": "844831af",
   "metadata": {
    "execution": {
     "iopub.execute_input": "2022-09-30T13:05:42.348393Z",
     "iopub.status.busy": "2022-09-30T13:05:42.347918Z",
     "iopub.status.idle": "2022-09-30T13:05:42.353149Z",
     "shell.execute_reply": "2022-09-30T13:05:42.351755Z"
    },
    "papermill": {
     "duration": 0.015629,
     "end_time": "2022-09-30T13:05:42.355700",
     "exception": false,
     "start_time": "2022-09-30T13:05:42.340071",
     "status": "completed"
    },
    "tags": []
   },
   "outputs": [],
   "source": [
    "# The lines below will show you a hint or the solution.\n",
    "# step_1.hint() \n",
    "# step_1.solution()"
   ]
  },
  {
   "cell_type": "markdown",
   "id": "e940ca5d",
   "metadata": {
    "papermill": {
     "duration": 0.005565,
     "end_time": "2022-09-30T13:05:42.367157",
     "exception": false,
     "start_time": "2022-09-30T13:05:42.361592",
     "status": "completed"
    },
    "tags": []
   },
   "source": [
    "## Step 2: Create X\n",
    "Now you will create a DataFrame called `X` holding the predictive features.\n",
    "\n",
    "Since you want only some columns from the original data, you'll first create a list with the names of the columns you want in `X`.\n",
    "\n",
    "You'll use just the following columns in the list (you can copy and paste the whole list to save some typing, though you'll still need to add quotes):\n",
    "  * LotArea\n",
    "  * YearBuilt\n",
    "  * 1stFlrSF\n",
    "  * 2ndFlrSF\n",
    "  * FullBath\n",
    "  * BedroomAbvGr\n",
    "  * TotRmsAbvGrd\n",
    "\n",
    "After you've created that list of features, use it to create the DataFrame that you'll use to fit the model."
   ]
  },
  {
   "cell_type": "code",
   "execution_count": 5,
   "id": "1717420a",
   "metadata": {
    "execution": {
     "iopub.execute_input": "2022-09-30T13:05:42.380982Z",
     "iopub.status.busy": "2022-09-30T13:05:42.380530Z",
     "iopub.status.idle": "2022-09-30T13:05:42.397061Z",
     "shell.execute_reply": "2022-09-30T13:05:42.395701Z"
    },
    "papermill": {
     "duration": 0.02693,
     "end_time": "2022-09-30T13:05:42.399752",
     "exception": false,
     "start_time": "2022-09-30T13:05:42.372822",
     "status": "completed"
    },
    "tags": []
   },
   "outputs": [
    {
     "data": {
      "application/javascript": [
       "parent.postMessage({\"jupyterEvent\": \"custom.exercise_interaction\", \"data\": {\"outcomeType\": 1, \"valueTowardsCompletion\": 0.25, \"interactionType\": 1, \"questionType\": 2, \"questionId\": \"2_SelectPredictionData\", \"learnToolsVersion\": \"0.3.4\", \"failureMessage\": \"\", \"exceptionClass\": \"\", \"trace\": \"\"}}, \"*\")"
      ],
      "text/plain": [
       "<IPython.core.display.Javascript object>"
      ]
     },
     "metadata": {},
     "output_type": "display_data"
    },
    {
     "data": {
      "text/markdown": [
       "<span style=\"color:#33cc33\">Correct</span>"
      ],
      "text/plain": [
       "Correct"
      ]
     },
     "metadata": {},
     "output_type": "display_data"
    }
   ],
   "source": [
    "# Create the list of features below\n",
    "feature_names = [\"LotArea\", \"YearBuilt\", \"1stFlrSF\", \"2ndFlrSF\",\"FullBath\", \"BedroomAbvGr\", \"TotRmsAbvGrd\"]\n",
    "\n",
    "# Select data corresponding to features in feature_names\n",
    "X = home_data[feature_names]\n",
    "\n",
    "# Check your answer\n",
    "step_2.check()"
   ]
  },
  {
   "cell_type": "code",
   "execution_count": 6,
   "id": "be47473a",
   "metadata": {
    "execution": {
     "iopub.execute_input": "2022-09-30T13:05:42.414477Z",
     "iopub.status.busy": "2022-09-30T13:05:42.413664Z",
     "iopub.status.idle": "2022-09-30T13:05:42.419142Z",
     "shell.execute_reply": "2022-09-30T13:05:42.417815Z"
    },
    "papermill": {
     "duration": 0.015416,
     "end_time": "2022-09-30T13:05:42.421365",
     "exception": false,
     "start_time": "2022-09-30T13:05:42.405949",
     "status": "completed"
    },
    "tags": []
   },
   "outputs": [],
   "source": [
    "# step_2.hint()\n",
    "# step_2.solution()"
   ]
  },
  {
   "cell_type": "markdown",
   "id": "22013bbd",
   "metadata": {
    "papermill": {
     "duration": 0.005582,
     "end_time": "2022-09-30T13:05:42.433113",
     "exception": false,
     "start_time": "2022-09-30T13:05:42.427531",
     "status": "completed"
    },
    "tags": []
   },
   "source": [
    "## Review Data\n",
    "Before building a model, take a quick look at **X** to verify it looks sensible"
   ]
  },
  {
   "cell_type": "code",
   "execution_count": 7,
   "id": "5a4c7530",
   "metadata": {
    "execution": {
     "iopub.execute_input": "2022-09-30T13:05:42.446931Z",
     "iopub.status.busy": "2022-09-30T13:05:42.446493Z",
     "iopub.status.idle": "2022-09-30T13:05:42.463991Z",
     "shell.execute_reply": "2022-09-30T13:05:42.462785Z"
    },
    "papermill": {
     "duration": 0.029587,
     "end_time": "2022-09-30T13:05:42.468619",
     "exception": false,
     "start_time": "2022-09-30T13:05:42.439032",
     "status": "completed"
    },
    "tags": []
   },
   "outputs": [
    {
     "name": "stdout",
     "output_type": "stream",
     "text": [
      "      LotArea  YearBuilt  1stFlrSF  2ndFlrSF  FullBath  BedroomAbvGr  \\\n",
      "0        8450       2003       856       854         2             3   \n",
      "1        9600       1976      1262         0         2             3   \n",
      "2       11250       2001       920       866         2             3   \n",
      "3        9550       1915       961       756         1             3   \n",
      "4       14260       2000      1145      1053         2             4   \n",
      "...       ...        ...       ...       ...       ...           ...   \n",
      "1455     7917       1999       953       694         2             3   \n",
      "1456    13175       1978      2073         0         2             3   \n",
      "1457     9042       1941      1188      1152         2             4   \n",
      "1458     9717       1950      1078         0         1             2   \n",
      "1459     9937       1965      1256         0         1             3   \n",
      "\n",
      "      TotRmsAbvGrd  \n",
      "0                8  \n",
      "1                6  \n",
      "2                6  \n",
      "3                7  \n",
      "4                9  \n",
      "...            ...  \n",
      "1455             7  \n",
      "1456             7  \n",
      "1457             9  \n",
      "1458             5  \n",
      "1459             6  \n",
      "\n",
      "[1460 rows x 7 columns]\n",
      "\n",
      "<bound method NDFrame.head of       LotArea  YearBuilt  1stFlrSF  2ndFlrSF  FullBath  BedroomAbvGr  \\\n",
      "0        8450       2003       856       854         2             3   \n",
      "1        9600       1976      1262         0         2             3   \n",
      "2       11250       2001       920       866         2             3   \n",
      "3        9550       1915       961       756         1             3   \n",
      "4       14260       2000      1145      1053         2             4   \n",
      "...       ...        ...       ...       ...       ...           ...   \n",
      "1455     7917       1999       953       694         2             3   \n",
      "1456    13175       1978      2073         0         2             3   \n",
      "1457     9042       1941      1188      1152         2             4   \n",
      "1458     9717       1950      1078         0         1             2   \n",
      "1459     9937       1965      1256         0         1             3   \n",
      "\n",
      "      TotRmsAbvGrd  \n",
      "0                8  \n",
      "1                6  \n",
      "2                6  \n",
      "3                7  \n",
      "4                9  \n",
      "...            ...  \n",
      "1455             7  \n",
      "1456             7  \n",
      "1457             9  \n",
      "1458             5  \n",
      "1459             6  \n",
      "\n",
      "[1460 rows x 7 columns]>\n"
     ]
    }
   ],
   "source": [
    "# Review data\n",
    "# print description or statistics from X\n",
    "#print(_)\n",
    "print(X)\n",
    "print(_)\n",
    "\n",
    "# print the top few lines\n",
    "#print(_)\n",
    "print(X.head)\n"
   ]
  },
  {
   "cell_type": "markdown",
   "id": "826210c1",
   "metadata": {
    "papermill": {
     "duration": 0.005956,
     "end_time": "2022-09-30T13:05:42.483222",
     "exception": false,
     "start_time": "2022-09-30T13:05:42.477266",
     "status": "completed"
    },
    "tags": []
   },
   "source": [
    "## Step 3: Specify and Fit Model\n",
    "Create a `DecisionTreeRegressor` and save it iowa_model. Ensure you've done the relevant import from sklearn to run this command.\n",
    "\n",
    "Then fit the model you just created using the data in `X` and `y` that you saved above."
   ]
  },
  {
   "cell_type": "code",
   "execution_count": 8,
   "id": "10e36941",
   "metadata": {
    "execution": {
     "iopub.execute_input": "2022-09-30T13:05:42.498303Z",
     "iopub.status.busy": "2022-09-30T13:05:42.497554Z",
     "iopub.status.idle": "2022-09-30T13:05:42.519795Z",
     "shell.execute_reply": "2022-09-30T13:05:42.518395Z"
    },
    "papermill": {
     "duration": 0.033391,
     "end_time": "2022-09-30T13:05:42.522948",
     "exception": false,
     "start_time": "2022-09-30T13:05:42.489557",
     "status": "completed"
    },
    "tags": []
   },
   "outputs": [
    {
     "data": {
      "application/javascript": [
       "parent.postMessage({\"jupyterEvent\": \"custom.exercise_interaction\", \"data\": {\"outcomeType\": 1, \"valueTowardsCompletion\": 0.25, \"interactionType\": 1, \"questionType\": 2, \"questionId\": \"3_CreateModel\", \"learnToolsVersion\": \"0.3.4\", \"failureMessage\": \"\", \"exceptionClass\": \"\", \"trace\": \"\"}}, \"*\")"
      ],
      "text/plain": [
       "<IPython.core.display.Javascript object>"
      ]
     },
     "metadata": {},
     "output_type": "display_data"
    },
    {
     "data": {
      "text/markdown": [
       "<span style=\"color:#33cc33\">Correct</span>"
      ],
      "text/plain": [
       "Correct"
      ]
     },
     "metadata": {},
     "output_type": "display_data"
    }
   ],
   "source": [
    "# from _ import _\n",
    "#specify the model. \n",
    "#For model reproducibility, set a numeric value for random_state when specifying the model\n",
    "from sklearn.tree import DecisionTreeRegressor\n",
    "\n",
    "iowa_model = DecisionTreeRegressor(random_state=1)\n",
    "\n",
    "# Fit the model\n",
    "iowa_model.fit(X, y)\n",
    "\n",
    "# Check your answer\n",
    "step_3.check()"
   ]
  },
  {
   "cell_type": "code",
   "execution_count": 9,
   "id": "e9255126",
   "metadata": {
    "execution": {
     "iopub.execute_input": "2022-09-30T13:05:42.538848Z",
     "iopub.status.busy": "2022-09-30T13:05:42.538441Z",
     "iopub.status.idle": "2022-09-30T13:05:42.543074Z",
     "shell.execute_reply": "2022-09-30T13:05:42.542122Z"
    },
    "papermill": {
     "duration": 0.015263,
     "end_time": "2022-09-30T13:05:42.545412",
     "exception": false,
     "start_time": "2022-09-30T13:05:42.530149",
     "status": "completed"
    },
    "tags": []
   },
   "outputs": [],
   "source": [
    "# step_3.hint()\n",
    "# step_3.solution()"
   ]
  },
  {
   "cell_type": "markdown",
   "id": "fac9386d",
   "metadata": {
    "papermill": {
     "duration": 0.006132,
     "end_time": "2022-09-30T13:05:42.558179",
     "exception": false,
     "start_time": "2022-09-30T13:05:42.552047",
     "status": "completed"
    },
    "tags": []
   },
   "source": [
    "## Step 4: Make Predictions\n",
    "Make predictions with the model's `predict` command using `X` as the data. Save the results to a variable called `predictions`."
   ]
  },
  {
   "cell_type": "code",
   "execution_count": 10,
   "id": "c3f1480a",
   "metadata": {
    "execution": {
     "iopub.execute_input": "2022-09-30T13:05:42.573713Z",
     "iopub.status.busy": "2022-09-30T13:05:42.572318Z",
     "iopub.status.idle": "2022-09-30T13:05:42.588245Z",
     "shell.execute_reply": "2022-09-30T13:05:42.586841Z"
    },
    "papermill": {
     "duration": 0.026691,
     "end_time": "2022-09-30T13:05:42.591297",
     "exception": false,
     "start_time": "2022-09-30T13:05:42.564606",
     "status": "completed"
    },
    "tags": []
   },
   "outputs": [
    {
     "name": "stdout",
     "output_type": "stream",
     "text": [
      "[208500. 181500. 223500. ... 266500. 142125. 147500.]\n"
     ]
    },
    {
     "data": {
      "application/javascript": [
       "parent.postMessage({\"jupyterEvent\": \"custom.exercise_interaction\", \"data\": {\"outcomeType\": 1, \"valueTowardsCompletion\": 0.25, \"interactionType\": 1, \"questionType\": 2, \"questionId\": \"4_MakePredictions\", \"learnToolsVersion\": \"0.3.4\", \"failureMessage\": \"\", \"exceptionClass\": \"\", \"trace\": \"\"}}, \"*\")"
      ],
      "text/plain": [
       "<IPython.core.display.Javascript object>"
      ]
     },
     "metadata": {},
     "output_type": "display_data"
    },
    {
     "data": {
      "text/markdown": [
       "<span style=\"color:#33cc33\">Correct</span>"
      ],
      "text/plain": [
       "Correct"
      ]
     },
     "metadata": {},
     "output_type": "display_data"
    }
   ],
   "source": [
    "predictions = iowa_model.predict(X)\n",
    "print(predictions)\n",
    "\n",
    "# Check your answer\n",
    "step_4.check()"
   ]
  },
  {
   "cell_type": "code",
   "execution_count": 11,
   "id": "96bd1d39",
   "metadata": {
    "execution": {
     "iopub.execute_input": "2022-09-30T13:05:42.607519Z",
     "iopub.status.busy": "2022-09-30T13:05:42.606164Z",
     "iopub.status.idle": "2022-09-30T13:05:42.611698Z",
     "shell.execute_reply": "2022-09-30T13:05:42.610709Z"
    },
    "papermill": {
     "duration": 0.015646,
     "end_time": "2022-09-30T13:05:42.613864",
     "exception": false,
     "start_time": "2022-09-30T13:05:42.598218",
     "status": "completed"
    },
    "tags": []
   },
   "outputs": [],
   "source": [
    "# step_4.hint()\n",
    "# step_4.solution()"
   ]
  },
  {
   "cell_type": "markdown",
   "id": "18d6706a",
   "metadata": {
    "papermill": {
     "duration": 0.006138,
     "end_time": "2022-09-30T13:05:42.626398",
     "exception": false,
     "start_time": "2022-09-30T13:05:42.620260",
     "status": "completed"
    },
    "tags": []
   },
   "source": [
    "## Think About Your Results\n",
    "\n",
    "Use the `head` method to compare the top few predictions to the actual home values (in `y`) for those same homes. Anything surprising?\n"
   ]
  },
  {
   "cell_type": "code",
   "execution_count": 12,
   "id": "14140e9e",
   "metadata": {
    "execution": {
     "iopub.execute_input": "2022-09-30T13:05:42.641920Z",
     "iopub.status.busy": "2022-09-30T13:05:42.641185Z",
     "iopub.status.idle": "2022-09-30T13:05:42.645769Z",
     "shell.execute_reply": "2022-09-30T13:05:42.644805Z"
    },
    "papermill": {
     "duration": 0.015215,
     "end_time": "2022-09-30T13:05:42.647995",
     "exception": false,
     "start_time": "2022-09-30T13:05:42.632780",
     "status": "completed"
    },
    "tags": []
   },
   "outputs": [],
   "source": [
    "# You can write code in this cell\n"
   ]
  },
  {
   "cell_type": "markdown",
   "id": "dbec537c",
   "metadata": {
    "papermill": {
     "duration": 0.006235,
     "end_time": "2022-09-30T13:05:42.660654",
     "exception": false,
     "start_time": "2022-09-30T13:05:42.654419",
     "status": "completed"
    },
    "tags": []
   },
   "source": [
    "It's natural to ask how accurate the model's predictions will be and how you can improve that. That will be you're next step.\n",
    "\n",
    "# Keep Going\n",
    "\n",
    "You are ready for **[Model Validation](https://www.kaggle.com/dansbecker/model-validation).**\n"
   ]
  },
  {
   "cell_type": "markdown",
   "id": "536c6daa",
   "metadata": {
    "papermill": {
     "duration": 0.005977,
     "end_time": "2022-09-30T13:05:42.672925",
     "exception": false,
     "start_time": "2022-09-30T13:05:42.666948",
     "status": "completed"
    },
    "tags": []
   },
   "source": [
    "---\n",
    "\n",
    "\n",
    "\n",
    "\n",
    "*Have questions or comments? Visit the [course discussion forum](https://www.kaggle.com/learn/intro-to-machine-learning/discussion) to chat with other learners.*"
   ]
  }
 ],
 "metadata": {
  "kernelspec": {
   "display_name": "Python 3",
   "language": "python",
   "name": "python3"
  },
  "language_info": {
   "codemirror_mode": {
    "name": "ipython",
    "version": 3
   },
   "file_extension": ".py",
   "mimetype": "text/x-python",
   "name": "python",
   "nbconvert_exporter": "python",
   "pygments_lexer": "ipython3",
   "version": "3.7.12"
  },
  "papermill": {
   "default_parameters": {},
   "duration": 13.410049,
   "end_time": "2022-09-30T13:05:43.803735",
   "environment_variables": {},
   "exception": null,
   "input_path": "__notebook__.ipynb",
   "output_path": "__notebook__.ipynb",
   "parameters": {},
   "start_time": "2022-09-30T13:05:30.393686",
   "version": "2.3.4"
  }
 },
 "nbformat": 4,
 "nbformat_minor": 5
}
