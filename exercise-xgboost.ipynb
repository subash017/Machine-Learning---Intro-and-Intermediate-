{
 "cells": [
  {
   "cell_type": "markdown",
   "id": "b8d11a9d",
   "metadata": {
    "papermill": {
     "duration": 0.007876,
     "end_time": "2022-09-30T14:10:09.121839",
     "exception": false,
     "start_time": "2022-09-30T14:10:09.113963",
     "status": "completed"
    },
    "tags": []
   },
   "source": [
    "**This notebook is an exercise in the [Intermediate Machine Learning](https://www.kaggle.com/learn/intermediate-machine-learning) course.  You can reference the tutorial at [this link](https://www.kaggle.com/alexisbcook/xgboost).**\n",
    "\n",
    "---\n"
   ]
  },
  {
   "cell_type": "markdown",
   "id": "f0a0482f",
   "metadata": {
    "papermill": {
     "duration": 0.005121,
     "end_time": "2022-09-30T14:10:09.132946",
     "exception": false,
     "start_time": "2022-09-30T14:10:09.127825",
     "status": "completed"
    },
    "tags": []
   },
   "source": [
    "In this exercise, you will use your new knowledge to train a model with **gradient boosting**.\n",
    "\n",
    "# Setup\n",
    "\n",
    "The questions below will give you feedback on your work. Run the following cell to set up the feedback system."
   ]
  },
  {
   "cell_type": "code",
   "execution_count": 1,
   "id": "9798cc1e",
   "metadata": {
    "execution": {
     "iopub.execute_input": "2022-09-30T14:10:09.146197Z",
     "iopub.status.busy": "2022-09-30T14:10:09.145320Z",
     "iopub.status.idle": "2022-09-30T14:10:11.711594Z",
     "shell.execute_reply": "2022-09-30T14:10:11.710521Z"
    },
    "papermill": {
     "duration": 2.57658,
     "end_time": "2022-09-30T14:10:11.714905",
     "exception": false,
     "start_time": "2022-09-30T14:10:09.138325",
     "status": "completed"
    },
    "tags": []
   },
   "outputs": [
    {
     "name": "stdout",
     "output_type": "stream",
     "text": [
      "Setup Complete\n"
     ]
    }
   ],
   "source": [
    "# Set up code checking\n",
    "import os\n",
    "if not os.path.exists(\"../input/train.csv\"):\n",
    "    os.symlink(\"../input/home-data-for-ml-course/train.csv\", \"../input/train.csv\")  \n",
    "    os.symlink(\"../input/home-data-for-ml-course/test.csv\", \"../input/test.csv\") \n",
    "from learntools.core import binder\n",
    "binder.bind(globals())\n",
    "from learntools.ml_intermediate.ex6 import *\n",
    "print(\"Setup Complete\")"
   ]
  },
  {
   "cell_type": "markdown",
   "id": "07828391",
   "metadata": {
    "papermill": {
     "duration": 0.005203,
     "end_time": "2022-09-30T14:10:11.726560",
     "exception": false,
     "start_time": "2022-09-30T14:10:11.721357",
     "status": "completed"
    },
    "tags": []
   },
   "source": [
    "You will work with the [Housing Prices Competition for Kaggle Learn Users](https://www.kaggle.com/c/home-data-for-ml-course) dataset from the previous exercise. \n",
    "\n",
    "![Ames Housing dataset image](https://i.imgur.com/lTJVG4e.png)\n",
    "\n",
    "Run the next code cell without changes to load the training and validation sets in `X_train`, `X_valid`, `y_train`, and `y_valid`.  The test set is loaded in `X_test`."
   ]
  },
  {
   "cell_type": "code",
   "execution_count": 2,
   "id": "d938e382",
   "metadata": {
    "execution": {
     "iopub.execute_input": "2022-09-30T14:10:11.739716Z",
     "iopub.status.busy": "2022-09-30T14:10:11.738543Z",
     "iopub.status.idle": "2022-09-30T14:10:11.959939Z",
     "shell.execute_reply": "2022-09-30T14:10:11.958900Z"
    },
    "papermill": {
     "duration": 0.230827,
     "end_time": "2022-09-30T14:10:11.962705",
     "exception": false,
     "start_time": "2022-09-30T14:10:11.731878",
     "status": "completed"
    },
    "tags": []
   },
   "outputs": [],
   "source": [
    "import pandas as pd\n",
    "from sklearn.model_selection import train_test_split\n",
    "\n",
    "# Read the data\n",
    "X = pd.read_csv('../input/train.csv', index_col='Id')\n",
    "X_test_full = pd.read_csv('../input/test.csv', index_col='Id')\n",
    "\n",
    "# Remove rows with missing target, separate target from predictors\n",
    "X.dropna(axis=0, subset=['SalePrice'], inplace=True)\n",
    "y = X.SalePrice              \n",
    "X.drop(['SalePrice'], axis=1, inplace=True)\n",
    "\n",
    "# Break off validation set from training data\n",
    "X_train_full, X_valid_full, y_train, y_valid = train_test_split(X, y, train_size=0.8, test_size=0.2,\n",
    "                                                                random_state=0)\n",
    "\n",
    "# \"Cardinality\" means the number of unique values in a column\n",
    "# Select categorical columns with relatively low cardinality (convenient but arbitrary)\n",
    "low_cardinality_cols = [cname for cname in X_train_full.columns if X_train_full[cname].nunique() < 10 and \n",
    "                        X_train_full[cname].dtype == \"object\"]\n",
    "\n",
    "# Select numeric columns\n",
    "numeric_cols = [cname for cname in X_train_full.columns if X_train_full[cname].dtype in ['int64', 'float64']]\n",
    "\n",
    "# Keep selected columns only\n",
    "my_cols = low_cardinality_cols + numeric_cols\n",
    "X_train = X_train_full[my_cols].copy()\n",
    "X_valid = X_valid_full[my_cols].copy()\n",
    "X_test = X_test_full[my_cols].copy()\n",
    "\n",
    "# One-hot encode the data (to shorten the code, we use pandas)\n",
    "X_train = pd.get_dummies(X_train)\n",
    "X_valid = pd.get_dummies(X_valid)\n",
    "X_test = pd.get_dummies(X_test)\n",
    "X_train, X_valid = X_train.align(X_valid, join='left', axis=1)\n",
    "X_train, X_test = X_train.align(X_test, join='left', axis=1)"
   ]
  },
  {
   "cell_type": "markdown",
   "id": "60de86ad",
   "metadata": {
    "papermill": {
     "duration": 0.005446,
     "end_time": "2022-09-30T14:10:11.974036",
     "exception": false,
     "start_time": "2022-09-30T14:10:11.968590",
     "status": "completed"
    },
    "tags": []
   },
   "source": [
    "# Step 1: Build model\n",
    "\n",
    "### Part A\n",
    "\n",
    "In this step, you'll build and train your first model with gradient boosting.\n",
    "\n",
    "- Begin by setting `my_model_1` to an XGBoost model.  Use the [XGBRegressor](https://xgboost.readthedocs.io/en/latest/python/python_api.html#xgboost.XGBRegressor) class, and set the random seed to 0 (`random_state=0`).  **Leave all other parameters as default.**\n",
    "- Then, fit the model to the training data in `X_train` and `y_train`."
   ]
  },
  {
   "cell_type": "code",
   "execution_count": 3,
   "id": "9af426ce",
   "metadata": {
    "execution": {
     "iopub.execute_input": "2022-09-30T14:10:11.987313Z",
     "iopub.status.busy": "2022-09-30T14:10:11.986455Z",
     "iopub.status.idle": "2022-09-30T14:10:12.955944Z",
     "shell.execute_reply": "2022-09-30T14:10:12.954779Z"
    },
    "papermill": {
     "duration": 0.978635,
     "end_time": "2022-09-30T14:10:12.958262",
     "exception": false,
     "start_time": "2022-09-30T14:10:11.979627",
     "status": "completed"
    },
    "tags": []
   },
   "outputs": [
    {
     "data": {
      "application/javascript": [
       "parent.postMessage({\"jupyterEvent\": \"custom.exercise_interaction\", \"data\": {\"outcomeType\": 1, \"valueTowardsCompletion\": 0.5, \"interactionType\": 1, \"questionType\": 2, \"questionId\": \"1.1_Model1A\", \"learnToolsVersion\": \"0.3.4\", \"failureMessage\": \"\", \"exceptionClass\": \"\", \"trace\": \"\"}}, \"*\")"
      ],
      "text/plain": [
       "<IPython.core.display.Javascript object>"
      ]
     },
     "metadata": {},
     "output_type": "display_data"
    },
    {
     "data": {
      "text/markdown": [
       "<span style=\"color:#33cc33\">Correct</span>"
      ],
      "text/plain": [
       "Correct"
      ]
     },
     "metadata": {},
     "output_type": "display_data"
    }
   ],
   "source": [
    "from xgboost import XGBRegressor\n",
    "\n",
    "# Define the model\n",
    "my_model_1 = XGBRegressor(random_state=0)\n",
    "\n",
    "# Fit the model\n",
    "my_model_1.fit(X_train, y_train)\n",
    "\n",
    "# Check your answer\n",
    "step_1.a.check()"
   ]
  },
  {
   "cell_type": "code",
   "execution_count": 4,
   "id": "e3766c24",
   "metadata": {
    "execution": {
     "iopub.execute_input": "2022-09-30T14:10:12.971897Z",
     "iopub.status.busy": "2022-09-30T14:10:12.971089Z",
     "iopub.status.idle": "2022-09-30T14:10:12.976012Z",
     "shell.execute_reply": "2022-09-30T14:10:12.975157Z"
    },
    "papermill": {
     "duration": 0.014967,
     "end_time": "2022-09-30T14:10:12.978931",
     "exception": false,
     "start_time": "2022-09-30T14:10:12.963964",
     "status": "completed"
    },
    "tags": []
   },
   "outputs": [],
   "source": [
    "# Lines below will give you a hint or solution code\n",
    "#step_1.a.hint()\n",
    "#step_1.a.solution()"
   ]
  },
  {
   "cell_type": "markdown",
   "id": "e4bb6175",
   "metadata": {
    "papermill": {
     "duration": 0.005301,
     "end_time": "2022-09-30T14:10:12.989957",
     "exception": false,
     "start_time": "2022-09-30T14:10:12.984656",
     "status": "completed"
    },
    "tags": []
   },
   "source": [
    "### Part B\n",
    "\n",
    "Set `predictions_1` to the model's predictions for the validation data.  Recall that the validation features are stored in `X_valid`."
   ]
  },
  {
   "cell_type": "code",
   "execution_count": 5,
   "id": "319528f3",
   "metadata": {
    "execution": {
     "iopub.execute_input": "2022-09-30T14:10:13.003285Z",
     "iopub.status.busy": "2022-09-30T14:10:13.002716Z",
     "iopub.status.idle": "2022-09-30T14:10:13.026492Z",
     "shell.execute_reply": "2022-09-30T14:10:13.025509Z"
    },
    "papermill": {
     "duration": 0.03334,
     "end_time": "2022-09-30T14:10:13.029222",
     "exception": false,
     "start_time": "2022-09-30T14:10:12.995882",
     "status": "completed"
    },
    "tags": []
   },
   "outputs": [
    {
     "data": {
      "application/javascript": [
       "parent.postMessage({\"jupyterEvent\": \"custom.exercise_interaction\", \"data\": {\"outcomeType\": 1, \"valueTowardsCompletion\": 0.5, \"interactionType\": 1, \"questionType\": 2, \"questionId\": \"1.2_Model1B\", \"learnToolsVersion\": \"0.3.4\", \"failureMessage\": \"\", \"exceptionClass\": \"\", \"trace\": \"\"}}, \"*\")"
      ],
      "text/plain": [
       "<IPython.core.display.Javascript object>"
      ]
     },
     "metadata": {},
     "output_type": "display_data"
    },
    {
     "data": {
      "text/markdown": [
       "<span style=\"color:#33cc33\">Correct</span>"
      ],
      "text/plain": [
       "Correct"
      ]
     },
     "metadata": {},
     "output_type": "display_data"
    }
   ],
   "source": [
    "from sklearn.metrics import mean_absolute_error\n",
    "\n",
    "# Get predictions\n",
    "predictions_1 = my_model_1.predict(X_valid)\n",
    "\n",
    "# Check your answer\n",
    "step_1.b.check()"
   ]
  },
  {
   "cell_type": "code",
   "execution_count": 6,
   "id": "80490ae8",
   "metadata": {
    "execution": {
     "iopub.execute_input": "2022-09-30T14:10:13.044822Z",
     "iopub.status.busy": "2022-09-30T14:10:13.044346Z",
     "iopub.status.idle": "2022-09-30T14:10:13.049276Z",
     "shell.execute_reply": "2022-09-30T14:10:13.048033Z"
    },
    "papermill": {
     "duration": 0.015483,
     "end_time": "2022-09-30T14:10:13.051857",
     "exception": false,
     "start_time": "2022-09-30T14:10:13.036374",
     "status": "completed"
    },
    "tags": []
   },
   "outputs": [],
   "source": [
    "# Lines below will give you a hint or solution code\n",
    "#step_1.b.hint()\n",
    "#step_1.b.solution()"
   ]
  },
  {
   "cell_type": "markdown",
   "id": "0bf1db63",
   "metadata": {
    "papermill": {
     "duration": 0.006132,
     "end_time": "2022-09-30T14:10:13.063799",
     "exception": false,
     "start_time": "2022-09-30T14:10:13.057667",
     "status": "completed"
    },
    "tags": []
   },
   "source": [
    "### Part C\n",
    "\n",
    "Finally, use the `mean_absolute_error()` function to calculate the mean absolute error (MAE) corresponding to the predictions for the validation set.  Recall that the labels for the validation data are stored in `y_valid`."
   ]
  },
  {
   "cell_type": "code",
   "execution_count": 7,
   "id": "c35a2c4e",
   "metadata": {
    "execution": {
     "iopub.execute_input": "2022-09-30T14:10:13.078084Z",
     "iopub.status.busy": "2022-09-30T14:10:13.077643Z",
     "iopub.status.idle": "2022-09-30T14:10:13.088446Z",
     "shell.execute_reply": "2022-09-30T14:10:13.087155Z"
    },
    "papermill": {
     "duration": 0.020117,
     "end_time": "2022-09-30T14:10:13.090833",
     "exception": false,
     "start_time": "2022-09-30T14:10:13.070716",
     "status": "completed"
    },
    "tags": []
   },
   "outputs": [
    {
     "data": {
      "application/javascript": [
       "parent.postMessage({\"jupyterEvent\": \"custom.exercise_interaction\", \"data\": {\"outcomeType\": 1, \"valueTowardsCompletion\": 0.5, \"interactionType\": 1, \"questionType\": 2, \"questionId\": \"1.3_Model1C\", \"learnToolsVersion\": \"0.3.4\", \"failureMessage\": \"\", \"exceptionClass\": \"\", \"trace\": \"\"}}, \"*\")"
      ],
      "text/plain": [
       "<IPython.core.display.Javascript object>"
      ]
     },
     "metadata": {},
     "output_type": "display_data"
    },
    {
     "data": {
      "text/markdown": [
       "<span style=\"color:#33cc33\">Correct</span>"
      ],
      "text/plain": [
       "Correct"
      ]
     },
     "metadata": {},
     "output_type": "display_data"
    }
   ],
   "source": [
    "# Calculate MAE\n",
    "mae_1 = mean_absolute_error(predictions_1, y_valid)\n",
    "\n",
    "# Uncomment to print MAE\n",
    "# print(\"Mean Absolute Error:\" , mae_1)\n",
    "\n",
    "# Check your answer\n",
    "step_1.c.check()"
   ]
  },
  {
   "cell_type": "code",
   "execution_count": 8,
   "id": "9a60c1f3",
   "metadata": {
    "execution": {
     "iopub.execute_input": "2022-09-30T14:10:13.105457Z",
     "iopub.status.busy": "2022-09-30T14:10:13.104453Z",
     "iopub.status.idle": "2022-09-30T14:10:13.109679Z",
     "shell.execute_reply": "2022-09-30T14:10:13.108367Z"
    },
    "papermill": {
     "duration": 0.015166,
     "end_time": "2022-09-30T14:10:13.112203",
     "exception": false,
     "start_time": "2022-09-30T14:10:13.097037",
     "status": "completed"
    },
    "tags": []
   },
   "outputs": [],
   "source": [
    "# Lines below will give you a hint or solution code\n",
    "#step_1.c.hint()\n",
    "#step_1.c.solution()"
   ]
  },
  {
   "cell_type": "markdown",
   "id": "8374a374",
   "metadata": {
    "papermill": {
     "duration": 0.006197,
     "end_time": "2022-09-30T14:10:13.124486",
     "exception": false,
     "start_time": "2022-09-30T14:10:13.118289",
     "status": "completed"
    },
    "tags": []
   },
   "source": [
    "# Step 2: Improve the model\n",
    "\n",
    "Now that you've trained a default model as baseline, it's time to tinker with the parameters, to see if you can get better performance!\n",
    "- Begin by setting `my_model_2` to an XGBoost model, using the [XGBRegressor](https://xgboost.readthedocs.io/en/latest/python/python_api.html#xgboost.XGBRegressor) class.  Use what you learned in the previous tutorial to figure out how to change the default parameters (like `n_estimators` and `learning_rate`) to get better results.\n",
    "- Then, fit the model to the training data in `X_train` and `y_train`.\n",
    "- Set `predictions_2` to the model's predictions for the validation data.  Recall that the validation features are stored in `X_valid`.\n",
    "- Finally, use the `mean_absolute_error()` function to calculate the mean absolute error (MAE) corresponding to the predictions on the validation set.  Recall that the labels for the validation data are stored in `y_valid`.\n",
    "\n",
    "In order for this step to be marked correct, your model in `my_model_2` must attain lower MAE than the model in `my_model_1`. "
   ]
  },
  {
   "cell_type": "code",
   "execution_count": 9,
   "id": "6e1ddb41",
   "metadata": {
    "execution": {
     "iopub.execute_input": "2022-09-30T14:10:13.138949Z",
     "iopub.status.busy": "2022-09-30T14:10:13.138556Z",
     "iopub.status.idle": "2022-09-30T14:10:22.405044Z",
     "shell.execute_reply": "2022-09-30T14:10:22.404070Z"
    },
    "papermill": {
     "duration": 9.277067,
     "end_time": "2022-09-30T14:10:22.407643",
     "exception": false,
     "start_time": "2022-09-30T14:10:13.130576",
     "status": "completed"
    },
    "tags": []
   },
   "outputs": [
    {
     "name": "stdout",
     "output_type": "stream",
     "text": [
      "Mean Absolute Error: 16688.691513270547\n"
     ]
    },
    {
     "data": {
      "application/javascript": [
       "parent.postMessage({\"jupyterEvent\": \"custom.exercise_interaction\", \"data\": {\"outcomeType\": 1, \"valueTowardsCompletion\": 0.5, \"interactionType\": 1, \"questionType\": 2, \"questionId\": \"2_Model2\", \"learnToolsVersion\": \"0.3.4\", \"failureMessage\": \"\", \"exceptionClass\": \"\", \"trace\": \"\"}}, \"*\")"
      ],
      "text/plain": [
       "<IPython.core.display.Javascript object>"
      ]
     },
     "metadata": {},
     "output_type": "display_data"
    },
    {
     "data": {
      "text/markdown": [
       "<span style=\"color:#33cc33\">Correct</span>"
      ],
      "text/plain": [
       "Correct"
      ]
     },
     "metadata": {},
     "output_type": "display_data"
    }
   ],
   "source": [
    "# Define the model\n",
    "my_model_2 = XGBRegressor(n_estimators=1000, learning_rate=0.05)\n",
    "\n",
    "# Fit the model\n",
    "my_model_2.fit(X_train, y_train)\n",
    "\n",
    "# Get predictions\n",
    "predictions_2 = my_model_2.predict(X_valid)\n",
    "\n",
    "# Calculate MAE\n",
    "mae_2 = mean_absolute_error(predictions_2, y_valid)\n",
    "\n",
    "# Uncomment to print MAE\n",
    "print(\"Mean Absolute Error:\" , mae_2)\n",
    "\n",
    "# Check your answer\n",
    "step_2.check()"
   ]
  },
  {
   "cell_type": "code",
   "execution_count": 10,
   "id": "a77fea06",
   "metadata": {
    "execution": {
     "iopub.execute_input": "2022-09-30T14:10:22.422781Z",
     "iopub.status.busy": "2022-09-30T14:10:22.422330Z",
     "iopub.status.idle": "2022-09-30T14:10:22.427326Z",
     "shell.execute_reply": "2022-09-30T14:10:22.426059Z"
    },
    "papermill": {
     "duration": 0.015098,
     "end_time": "2022-09-30T14:10:22.429884",
     "exception": false,
     "start_time": "2022-09-30T14:10:22.414786",
     "status": "completed"
    },
    "tags": []
   },
   "outputs": [],
   "source": [
    "# Lines below will give you a hint or solution code\n",
    "#step_2.hint()\n",
    "#step_2.solution()"
   ]
  },
  {
   "cell_type": "markdown",
   "id": "77fdd2c2",
   "metadata": {
    "papermill": {
     "duration": 0.005887,
     "end_time": "2022-09-30T14:10:22.442007",
     "exception": false,
     "start_time": "2022-09-30T14:10:22.436120",
     "status": "completed"
    },
    "tags": []
   },
   "source": [
    "# Step 3: Break the model\n",
    "\n",
    "In this step, you will create a model that performs worse than the original model in Step 1.  This will help you to develop your intuition for how to set parameters.  You might even find that you accidentally get better performance, which is ultimately a nice problem to have and a valuable learning experience!\n",
    "- Begin by setting `my_model_3` to an XGBoost model, using the [XGBRegressor](https://xgboost.readthedocs.io/en/latest/python/python_api.html#xgboost.XGBRegressor) class.  Use what you learned in the previous tutorial to figure out how to change the default parameters (like `n_estimators` and `learning_rate`) to design a model to get high MAE.\n",
    "- Then, fit the model to the training data in `X_train` and `y_train`.\n",
    "- Set `predictions_3` to the model's predictions for the validation data.  Recall that the validation features are stored in `X_valid`.\n",
    "- Finally, use the `mean_absolute_error()` function to calculate the mean absolute error (MAE) corresponding to the predictions on the validation set.  Recall that the labels for the validation data are stored in `y_valid`.\n",
    "\n",
    "In order for this step to be marked correct, your model in `my_model_3` must attain higher MAE than the model in `my_model_1`. "
   ]
  },
  {
   "cell_type": "code",
   "execution_count": 11,
   "id": "a3aafee7",
   "metadata": {
    "execution": {
     "iopub.execute_input": "2022-09-30T14:10:22.456579Z",
     "iopub.status.busy": "2022-09-30T14:10:22.455532Z",
     "iopub.status.idle": "2022-09-30T14:10:22.520000Z",
     "shell.execute_reply": "2022-09-30T14:10:22.518969Z"
    },
    "papermill": {
     "duration": 0.074593,
     "end_time": "2022-09-30T14:10:22.522694",
     "exception": false,
     "start_time": "2022-09-30T14:10:22.448101",
     "status": "completed"
    },
    "tags": []
   },
   "outputs": [
    {
     "name": "stdout",
     "output_type": "stream",
     "text": [
      "Mean Absolute Error: 127895.0828807256\n"
     ]
    },
    {
     "data": {
      "application/javascript": [
       "parent.postMessage({\"jupyterEvent\": \"custom.exercise_interaction\", \"data\": {\"outcomeType\": 1, \"valueTowardsCompletion\": 0.5, \"interactionType\": 1, \"questionType\": 2, \"questionId\": \"3_Model3\", \"learnToolsVersion\": \"0.3.4\", \"failureMessage\": \"\", \"exceptionClass\": \"\", \"trace\": \"\"}}, \"*\")"
      ],
      "text/plain": [
       "<IPython.core.display.Javascript object>"
      ]
     },
     "metadata": {},
     "output_type": "display_data"
    },
    {
     "data": {
      "text/markdown": [
       "<span style=\"color:#33cc33\">Correct</span>"
      ],
      "text/plain": [
       "Correct"
      ]
     },
     "metadata": {},
     "output_type": "display_data"
    }
   ],
   "source": [
    "# Define the model\n",
    "my_model_3 = XGBRegressor(n_estimators=1)\n",
    "\n",
    "# Fit the model\n",
    "my_model_3.fit(X_train, y_train)\n",
    "\n",
    "# Get predictions\n",
    "predictions_3 = my_model_3.predict(X_valid)\n",
    "\n",
    "# Calculate MAE\n",
    "mae_3 = mean_absolute_error(predictions_3, y_valid)\n",
    "\n",
    "# Uncomment to print MAE\n",
    "print(\"Mean Absolute Error:\" , mae_3)\n",
    "\n",
    "# Check your answer\n",
    "step_3.check()"
   ]
  },
  {
   "cell_type": "code",
   "execution_count": 12,
   "id": "b3770ba5",
   "metadata": {
    "execution": {
     "iopub.execute_input": "2022-09-30T14:10:22.539023Z",
     "iopub.status.busy": "2022-09-30T14:10:22.538620Z",
     "iopub.status.idle": "2022-09-30T14:10:22.543480Z",
     "shell.execute_reply": "2022-09-30T14:10:22.542327Z"
    },
    "papermill": {
     "duration": 0.015216,
     "end_time": "2022-09-30T14:10:22.545963",
     "exception": false,
     "start_time": "2022-09-30T14:10:22.530747",
     "status": "completed"
    },
    "tags": []
   },
   "outputs": [],
   "source": [
    "# Lines below will give you a hint or solution code\n",
    "#step_3.hint()\n",
    "#step_3.solution()"
   ]
  },
  {
   "cell_type": "markdown",
   "id": "81c3df1b",
   "metadata": {
    "papermill": {
     "duration": 0.006299,
     "end_time": "2022-09-30T14:10:22.558966",
     "exception": false,
     "start_time": "2022-09-30T14:10:22.552667",
     "status": "completed"
    },
    "tags": []
   },
   "source": [
    "# Keep going\n",
    "\n",
    "Continue to learn about **[data leakage](https://www.kaggle.com/alexisbcook/data-leakage)**.  This is an important issue for a data scientist to understand, and it has the potential to ruin your models in subtle and dangerous ways!"
   ]
  },
  {
   "cell_type": "markdown",
   "id": "e10c8e17",
   "metadata": {
    "papermill": {
     "duration": 0.006359,
     "end_time": "2022-09-30T14:10:22.571858",
     "exception": false,
     "start_time": "2022-09-30T14:10:22.565499",
     "status": "completed"
    },
    "tags": []
   },
   "source": [
    "---\n",
    "\n",
    "\n",
    "\n",
    "\n",
    "*Have questions or comments? Visit the [course discussion forum](https://www.kaggle.com/learn/intermediate-machine-learning/discussion) to chat with other learners.*"
   ]
  }
 ],
 "metadata": {
  "kernelspec": {
   "display_name": "Python 3",
   "language": "python",
   "name": "python3"
  },
  "language_info": {
   "codemirror_mode": {
    "name": "ipython",
    "version": 3
   },
   "file_extension": ".py",
   "mimetype": "text/x-python",
   "name": "python",
   "nbconvert_exporter": "python",
   "pygments_lexer": "ipython3",
   "version": "3.7.12"
  },
  "papermill": {
   "default_parameters": {},
   "duration": 23.493962,
   "end_time": "2022-09-30T14:10:23.400937",
   "environment_variables": {},
   "exception": null,
   "input_path": "__notebook__.ipynb",
   "output_path": "__notebook__.ipynb",
   "parameters": {},
   "start_time": "2022-09-30T14:09:59.906975",
   "version": "2.3.4"
  }
 },
 "nbformat": 4,
 "nbformat_minor": 5
}
