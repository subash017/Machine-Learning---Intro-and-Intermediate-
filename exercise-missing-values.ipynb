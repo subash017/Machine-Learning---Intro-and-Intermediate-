{
 "cells": [
  {
   "cell_type": "markdown",
   "id": "2ddea9c4",
   "metadata": {
    "papermill": {
     "duration": 0.01093,
     "end_time": "2022-09-30T13:38:12.534200",
     "exception": false,
     "start_time": "2022-09-30T13:38:12.523270",
     "status": "completed"
    },
    "tags": []
   },
   "source": [
    "**This notebook is an exercise in the [Intermediate Machine Learning](https://www.kaggle.com/learn/intermediate-machine-learning) course.  You can reference the tutorial at [this link](https://www.kaggle.com/alexisbcook/missing-values).**\n",
    "\n",
    "---\n"
   ]
  },
  {
   "cell_type": "markdown",
   "id": "a94c420a",
   "metadata": {
    "papermill": {
     "duration": 0.0092,
     "end_time": "2022-09-30T13:38:12.553210",
     "exception": false,
     "start_time": "2022-09-30T13:38:12.544010",
     "status": "completed"
    },
    "tags": []
   },
   "source": [
    "Now it's your turn to test your new knowledge of **missing values** handling. You'll probably find it makes a big difference.\n",
    "\n",
    "# Setup\n",
    "\n",
    "The questions will give you feedback on your work. Run the following cell to set up the feedback system."
   ]
  },
  {
   "cell_type": "code",
   "execution_count": 1,
   "id": "ebb643ff",
   "metadata": {
    "execution": {
     "iopub.execute_input": "2022-09-30T13:38:12.574353Z",
     "iopub.status.busy": "2022-09-30T13:38:12.573730Z",
     "iopub.status.idle": "2022-09-30T13:38:12.640477Z",
     "shell.execute_reply": "2022-09-30T13:38:12.639116Z"
    },
    "papermill": {
     "duration": 0.080939,
     "end_time": "2022-09-30T13:38:12.643652",
     "exception": false,
     "start_time": "2022-09-30T13:38:12.562713",
     "status": "completed"
    },
    "tags": []
   },
   "outputs": [
    {
     "name": "stdout",
     "output_type": "stream",
     "text": [
      "Setup Complete\n"
     ]
    }
   ],
   "source": [
    "# Set up code checking\n",
    "import os\n",
    "if not os.path.exists(\"../input/train.csv\"):\n",
    "    os.symlink(\"../input/home-data-for-ml-course/train.csv\", \"../input/train.csv\")  \n",
    "    os.symlink(\"../input/home-data-for-ml-course/test.csv\", \"../input/test.csv\") \n",
    "from learntools.core import binder\n",
    "binder.bind(globals())\n",
    "from learntools.ml_intermediate.ex2 import *\n",
    "print(\"Setup Complete\")"
   ]
  },
  {
   "cell_type": "markdown",
   "id": "7b570a7a",
   "metadata": {
    "papermill": {
     "duration": 0.009064,
     "end_time": "2022-09-30T13:38:12.662725",
     "exception": false,
     "start_time": "2022-09-30T13:38:12.653661",
     "status": "completed"
    },
    "tags": []
   },
   "source": [
    "In this exercise, you will work with data from the [Housing Prices Competition for Kaggle Learn Users](https://www.kaggle.com/c/home-data-for-ml-course). \n",
    "\n",
    "![Ames Housing dataset image](https://i.imgur.com/lTJVG4e.png)\n",
    "\n",
    "Run the next code cell without changes to load the training and validation sets in `X_train`, `X_valid`, `y_train`, and `y_valid`.  The test set is loaded in `X_test`."
   ]
  },
  {
   "cell_type": "code",
   "execution_count": 2,
   "id": "2e3e7fde",
   "metadata": {
    "execution": {
     "iopub.execute_input": "2022-09-30T13:38:12.685454Z",
     "iopub.status.busy": "2022-09-30T13:38:12.684519Z",
     "iopub.status.idle": "2022-09-30T13:38:13.987571Z",
     "shell.execute_reply": "2022-09-30T13:38:13.986227Z"
    },
    "papermill": {
     "duration": 1.318229,
     "end_time": "2022-09-30T13:38:13.991032",
     "exception": false,
     "start_time": "2022-09-30T13:38:12.672803",
     "status": "completed"
    },
    "tags": []
   },
   "outputs": [],
   "source": [
    "import pandas as pd\n",
    "from sklearn.model_selection import train_test_split\n",
    "\n",
    "# Read the data\n",
    "X_full = pd.read_csv('../input/train.csv', index_col='Id')\n",
    "X_test_full = pd.read_csv('../input/test.csv', index_col='Id')\n",
    "\n",
    "# Remove rows with missing target, separate target from predictors\n",
    "X_full.dropna(axis=0, subset=['SalePrice'], inplace=True)\n",
    "y = X_full.SalePrice\n",
    "X_full.drop(['SalePrice'], axis=1, inplace=True)\n",
    "\n",
    "# To keep things simple, we'll use only numerical predictors\n",
    "X = X_full.select_dtypes(exclude=['object'])\n",
    "X_test = X_test_full.select_dtypes(exclude=['object'])\n",
    "\n",
    "# Break off validation set from training data\n",
    "X_train, X_valid, y_train, y_valid = train_test_split(X, y, train_size=0.8, test_size=0.2,\n",
    "                                                      random_state=0)"
   ]
  },
  {
   "cell_type": "markdown",
   "id": "e7fa3329",
   "metadata": {
    "papermill": {
     "duration": 0.008664,
     "end_time": "2022-09-30T13:38:14.010601",
     "exception": false,
     "start_time": "2022-09-30T13:38:14.001937",
     "status": "completed"
    },
    "tags": []
   },
   "source": [
    "Use the next code cell to print the first five rows of the data."
   ]
  },
  {
   "cell_type": "code",
   "execution_count": 3,
   "id": "2b9c5ef8",
   "metadata": {
    "execution": {
     "iopub.execute_input": "2022-09-30T13:38:14.032166Z",
     "iopub.status.busy": "2022-09-30T13:38:14.031758Z",
     "iopub.status.idle": "2022-09-30T13:38:14.065118Z",
     "shell.execute_reply": "2022-09-30T13:38:14.063093Z"
    },
    "papermill": {
     "duration": 0.048338,
     "end_time": "2022-09-30T13:38:14.068063",
     "exception": false,
     "start_time": "2022-09-30T13:38:14.019725",
     "status": "completed"
    },
    "tags": []
   },
   "outputs": [
    {
     "data": {
      "text/html": [
       "<div>\n",
       "<style scoped>\n",
       "    .dataframe tbody tr th:only-of-type {\n",
       "        vertical-align: middle;\n",
       "    }\n",
       "\n",
       "    .dataframe tbody tr th {\n",
       "        vertical-align: top;\n",
       "    }\n",
       "\n",
       "    .dataframe thead th {\n",
       "        text-align: right;\n",
       "    }\n",
       "</style>\n",
       "<table border=\"1\" class=\"dataframe\">\n",
       "  <thead>\n",
       "    <tr style=\"text-align: right;\">\n",
       "      <th></th>\n",
       "      <th>MSSubClass</th>\n",
       "      <th>LotFrontage</th>\n",
       "      <th>LotArea</th>\n",
       "      <th>OverallQual</th>\n",
       "      <th>OverallCond</th>\n",
       "      <th>YearBuilt</th>\n",
       "      <th>YearRemodAdd</th>\n",
       "      <th>MasVnrArea</th>\n",
       "      <th>BsmtFinSF1</th>\n",
       "      <th>BsmtFinSF2</th>\n",
       "      <th>...</th>\n",
       "      <th>GarageArea</th>\n",
       "      <th>WoodDeckSF</th>\n",
       "      <th>OpenPorchSF</th>\n",
       "      <th>EnclosedPorch</th>\n",
       "      <th>3SsnPorch</th>\n",
       "      <th>ScreenPorch</th>\n",
       "      <th>PoolArea</th>\n",
       "      <th>MiscVal</th>\n",
       "      <th>MoSold</th>\n",
       "      <th>YrSold</th>\n",
       "    </tr>\n",
       "    <tr>\n",
       "      <th>Id</th>\n",
       "      <th></th>\n",
       "      <th></th>\n",
       "      <th></th>\n",
       "      <th></th>\n",
       "      <th></th>\n",
       "      <th></th>\n",
       "      <th></th>\n",
       "      <th></th>\n",
       "      <th></th>\n",
       "      <th></th>\n",
       "      <th></th>\n",
       "      <th></th>\n",
       "      <th></th>\n",
       "      <th></th>\n",
       "      <th></th>\n",
       "      <th></th>\n",
       "      <th></th>\n",
       "      <th></th>\n",
       "      <th></th>\n",
       "      <th></th>\n",
       "      <th></th>\n",
       "    </tr>\n",
       "  </thead>\n",
       "  <tbody>\n",
       "    <tr>\n",
       "      <th>619</th>\n",
       "      <td>20</td>\n",
       "      <td>90.0</td>\n",
       "      <td>11694</td>\n",
       "      <td>9</td>\n",
       "      <td>5</td>\n",
       "      <td>2007</td>\n",
       "      <td>2007</td>\n",
       "      <td>452.0</td>\n",
       "      <td>48</td>\n",
       "      <td>0</td>\n",
       "      <td>...</td>\n",
       "      <td>774</td>\n",
       "      <td>0</td>\n",
       "      <td>108</td>\n",
       "      <td>0</td>\n",
       "      <td>0</td>\n",
       "      <td>260</td>\n",
       "      <td>0</td>\n",
       "      <td>0</td>\n",
       "      <td>7</td>\n",
       "      <td>2007</td>\n",
       "    </tr>\n",
       "    <tr>\n",
       "      <th>871</th>\n",
       "      <td>20</td>\n",
       "      <td>60.0</td>\n",
       "      <td>6600</td>\n",
       "      <td>5</td>\n",
       "      <td>5</td>\n",
       "      <td>1962</td>\n",
       "      <td>1962</td>\n",
       "      <td>0.0</td>\n",
       "      <td>0</td>\n",
       "      <td>0</td>\n",
       "      <td>...</td>\n",
       "      <td>308</td>\n",
       "      <td>0</td>\n",
       "      <td>0</td>\n",
       "      <td>0</td>\n",
       "      <td>0</td>\n",
       "      <td>0</td>\n",
       "      <td>0</td>\n",
       "      <td>0</td>\n",
       "      <td>8</td>\n",
       "      <td>2009</td>\n",
       "    </tr>\n",
       "    <tr>\n",
       "      <th>93</th>\n",
       "      <td>30</td>\n",
       "      <td>80.0</td>\n",
       "      <td>13360</td>\n",
       "      <td>5</td>\n",
       "      <td>7</td>\n",
       "      <td>1921</td>\n",
       "      <td>2006</td>\n",
       "      <td>0.0</td>\n",
       "      <td>713</td>\n",
       "      <td>0</td>\n",
       "      <td>...</td>\n",
       "      <td>432</td>\n",
       "      <td>0</td>\n",
       "      <td>0</td>\n",
       "      <td>44</td>\n",
       "      <td>0</td>\n",
       "      <td>0</td>\n",
       "      <td>0</td>\n",
       "      <td>0</td>\n",
       "      <td>8</td>\n",
       "      <td>2009</td>\n",
       "    </tr>\n",
       "    <tr>\n",
       "      <th>818</th>\n",
       "      <td>20</td>\n",
       "      <td>NaN</td>\n",
       "      <td>13265</td>\n",
       "      <td>8</td>\n",
       "      <td>5</td>\n",
       "      <td>2002</td>\n",
       "      <td>2002</td>\n",
       "      <td>148.0</td>\n",
       "      <td>1218</td>\n",
       "      <td>0</td>\n",
       "      <td>...</td>\n",
       "      <td>857</td>\n",
       "      <td>150</td>\n",
       "      <td>59</td>\n",
       "      <td>0</td>\n",
       "      <td>0</td>\n",
       "      <td>0</td>\n",
       "      <td>0</td>\n",
       "      <td>0</td>\n",
       "      <td>7</td>\n",
       "      <td>2008</td>\n",
       "    </tr>\n",
       "    <tr>\n",
       "      <th>303</th>\n",
       "      <td>20</td>\n",
       "      <td>118.0</td>\n",
       "      <td>13704</td>\n",
       "      <td>7</td>\n",
       "      <td>5</td>\n",
       "      <td>2001</td>\n",
       "      <td>2002</td>\n",
       "      <td>150.0</td>\n",
       "      <td>0</td>\n",
       "      <td>0</td>\n",
       "      <td>...</td>\n",
       "      <td>843</td>\n",
       "      <td>468</td>\n",
       "      <td>81</td>\n",
       "      <td>0</td>\n",
       "      <td>0</td>\n",
       "      <td>0</td>\n",
       "      <td>0</td>\n",
       "      <td>0</td>\n",
       "      <td>1</td>\n",
       "      <td>2006</td>\n",
       "    </tr>\n",
       "  </tbody>\n",
       "</table>\n",
       "<p>5 rows × 36 columns</p>\n",
       "</div>"
      ],
      "text/plain": [
       "     MSSubClass  LotFrontage  LotArea  OverallQual  OverallCond  YearBuilt  \\\n",
       "Id                                                                           \n",
       "619          20         90.0    11694            9            5       2007   \n",
       "871          20         60.0     6600            5            5       1962   \n",
       "93           30         80.0    13360            5            7       1921   \n",
       "818          20          NaN    13265            8            5       2002   \n",
       "303          20        118.0    13704            7            5       2001   \n",
       "\n",
       "     YearRemodAdd  MasVnrArea  BsmtFinSF1  BsmtFinSF2  ...  GarageArea  \\\n",
       "Id                                                     ...               \n",
       "619          2007       452.0          48           0  ...         774   \n",
       "871          1962         0.0           0           0  ...         308   \n",
       "93           2006         0.0         713           0  ...         432   \n",
       "818          2002       148.0        1218           0  ...         857   \n",
       "303          2002       150.0           0           0  ...         843   \n",
       "\n",
       "     WoodDeckSF  OpenPorchSF  EnclosedPorch  3SsnPorch  ScreenPorch  PoolArea  \\\n",
       "Id                                                                              \n",
       "619           0          108              0          0          260         0   \n",
       "871           0            0              0          0            0         0   \n",
       "93            0            0             44          0            0         0   \n",
       "818         150           59              0          0            0         0   \n",
       "303         468           81              0          0            0         0   \n",
       "\n",
       "     MiscVal  MoSold  YrSold  \n",
       "Id                            \n",
       "619        0       7    2007  \n",
       "871        0       8    2009  \n",
       "93         0       8    2009  \n",
       "818        0       7    2008  \n",
       "303        0       1    2006  \n",
       "\n",
       "[5 rows x 36 columns]"
      ]
     },
     "execution_count": 3,
     "metadata": {},
     "output_type": "execute_result"
    }
   ],
   "source": [
    "X_train.head()"
   ]
  },
  {
   "cell_type": "markdown",
   "id": "e306818d",
   "metadata": {
    "papermill": {
     "duration": 0.009394,
     "end_time": "2022-09-30T13:38:14.088140",
     "exception": false,
     "start_time": "2022-09-30T13:38:14.078746",
     "status": "completed"
    },
    "tags": []
   },
   "source": [
    "You can already see a few missing values in the first several rows.  In the next step, you'll obtain a more comprehensive understanding of the missing values in the dataset.\n",
    "\n",
    "# Step 1: Preliminary investigation\n",
    "\n",
    "Run the code cell below without changes."
   ]
  },
  {
   "cell_type": "code",
   "execution_count": 4,
   "id": "b4e78774",
   "metadata": {
    "execution": {
     "iopub.execute_input": "2022-09-30T13:38:14.109685Z",
     "iopub.status.busy": "2022-09-30T13:38:14.108867Z",
     "iopub.status.idle": "2022-09-30T13:38:14.118876Z",
     "shell.execute_reply": "2022-09-30T13:38:14.117400Z"
    },
    "papermill": {
     "duration": 0.023954,
     "end_time": "2022-09-30T13:38:14.121844",
     "exception": false,
     "start_time": "2022-09-30T13:38:14.097890",
     "status": "completed"
    },
    "tags": []
   },
   "outputs": [
    {
     "name": "stdout",
     "output_type": "stream",
     "text": [
      "(1168, 36)\n",
      "LotFrontage    212\n",
      "MasVnrArea       6\n",
      "GarageYrBlt     58\n",
      "dtype: int64\n"
     ]
    }
   ],
   "source": [
    "# Shape of training data (num_rows, num_columns)\n",
    "print(X_train.shape)\n",
    "\n",
    "# Number of missing values in each column of training data\n",
    "missing_val_count_by_column = (X_train.isnull().sum())\n",
    "print(missing_val_count_by_column[missing_val_count_by_column > 0])"
   ]
  },
  {
   "cell_type": "markdown",
   "id": "277b3fa3",
   "metadata": {
    "papermill": {
     "duration": 0.009139,
     "end_time": "2022-09-30T13:38:14.140550",
     "exception": false,
     "start_time": "2022-09-30T13:38:14.131411",
     "status": "completed"
    },
    "tags": []
   },
   "source": [
    "### Part A\n",
    "\n",
    "Use the above output to answer the questions below."
   ]
  },
  {
   "cell_type": "code",
   "execution_count": 5,
   "id": "7ba7165a",
   "metadata": {
    "execution": {
     "iopub.execute_input": "2022-09-30T13:38:14.161344Z",
     "iopub.status.busy": "2022-09-30T13:38:14.160910Z",
     "iopub.status.idle": "2022-09-30T13:38:14.172331Z",
     "shell.execute_reply": "2022-09-30T13:38:14.171057Z"
    },
    "papermill": {
     "duration": 0.024767,
     "end_time": "2022-09-30T13:38:14.174884",
     "exception": false,
     "start_time": "2022-09-30T13:38:14.150117",
     "status": "completed"
    },
    "tags": []
   },
   "outputs": [
    {
     "data": {
      "application/javascript": [
       "parent.postMessage({\"jupyterEvent\": \"custom.exercise_interaction\", \"data\": {\"outcomeType\": 1, \"valueTowardsCompletion\": 1.0, \"interactionType\": 1, \"questionType\": 1, \"questionId\": \"1.1_InvestigateEquality\", \"learnToolsVersion\": \"0.3.4\", \"failureMessage\": \"\", \"exceptionClass\": \"\", \"trace\": \"\"}}, \"*\")"
      ],
      "text/plain": [
       "<IPython.core.display.Javascript object>"
      ]
     },
     "metadata": {},
     "output_type": "display_data"
    },
    {
     "data": {
      "text/markdown": [
       "<span style=\"color:#33cc33\">Correct</span>"
      ],
      "text/plain": [
       "Correct"
      ]
     },
     "metadata": {},
     "output_type": "display_data"
    }
   ],
   "source": [
    "# Fill in the line below: How many rows are in the training data?\n",
    "num_rows = 1168\n",
    "\n",
    "# Fill in the line below: How many columns in the training data\n",
    "# have missing values?\n",
    "num_cols_with_missing = 3\n",
    "\n",
    "# Fill in the line below: How many missing entries are contained in \n",
    "# all of the training data?\n",
    "tot_missing = 212+6+58\n",
    "\n",
    "# Check your answers\n",
    "step_1.a.check()"
   ]
  },
  {
   "cell_type": "code",
   "execution_count": 6,
   "id": "712032df",
   "metadata": {
    "execution": {
     "iopub.execute_input": "2022-09-30T13:38:14.196886Z",
     "iopub.status.busy": "2022-09-30T13:38:14.196446Z",
     "iopub.status.idle": "2022-09-30T13:38:14.201314Z",
     "shell.execute_reply": "2022-09-30T13:38:14.199977Z"
    },
    "papermill": {
     "duration": 0.018761,
     "end_time": "2022-09-30T13:38:14.203704",
     "exception": false,
     "start_time": "2022-09-30T13:38:14.184943",
     "status": "completed"
    },
    "tags": []
   },
   "outputs": [],
   "source": [
    "# Lines below will give you a hint or solution code\n",
    "#step_1.a.hint()\n",
    "#step_1.a.solution()"
   ]
  },
  {
   "cell_type": "markdown",
   "id": "ee9bb2b3",
   "metadata": {
    "papermill": {
     "duration": 0.009456,
     "end_time": "2022-09-30T13:38:14.223260",
     "exception": false,
     "start_time": "2022-09-30T13:38:14.213804",
     "status": "completed"
    },
    "tags": []
   },
   "source": [
    "### Part B\n",
    "Considering your answers above, what do you think is likely the best approach to dealing with the missing values?"
   ]
  },
  {
   "cell_type": "markdown",
   "id": "f5e68ed6",
   "metadata": {
    "papermill": {
     "duration": 0.009539,
     "end_time": "2022-09-30T13:38:14.242603",
     "exception": false,
     "start_time": "2022-09-30T13:38:14.233064",
     "status": "completed"
    },
    "tags": []
   },
   "source": [
    "drop"
   ]
  },
  {
   "cell_type": "code",
   "execution_count": 7,
   "id": "2852b097",
   "metadata": {
    "execution": {
     "iopub.execute_input": "2022-09-30T13:38:14.265220Z",
     "iopub.status.busy": "2022-09-30T13:38:14.263830Z",
     "iopub.status.idle": "2022-09-30T13:38:14.273034Z",
     "shell.execute_reply": "2022-09-30T13:38:14.271801Z"
    },
    "papermill": {
     "duration": 0.022929,
     "end_time": "2022-09-30T13:38:14.275516",
     "exception": false,
     "start_time": "2022-09-30T13:38:14.252587",
     "status": "completed"
    },
    "tags": []
   },
   "outputs": [
    {
     "data": {
      "application/javascript": [
       "parent.postMessage({\"jupyterEvent\": \"custom.exercise_interaction\", \"data\": {\"outcomeType\": 1, \"valueTowardsCompletion\": 1.0, \"interactionType\": 1, \"questionType\": 4, \"questionId\": \"1.2_InvestigateThought\", \"learnToolsVersion\": \"0.3.4\", \"failureMessage\": \"\", \"exceptionClass\": \"\", \"trace\": \"\"}}, \"*\")"
      ],
      "text/plain": [
       "<IPython.core.display.Javascript object>"
      ]
     },
     "metadata": {},
     "output_type": "display_data"
    },
    {
     "data": {
      "text/markdown": [
       "<span style=\"color:#33cc33\">Correct:</span> \n",
       "\n",
       "Since there are relatively few missing entries in the data (the column with the greatest percentage of missing values is missing less than 20% of its entries), we can expect that dropping columns is unlikely to yield good results.  This is because we'd be throwing away a lot of valuable data, and so imputation will likely perform better."
      ],
      "text/plain": [
       "Correct: \n",
       "\n",
       "Since there are relatively few missing entries in the data (the column with the greatest percentage of missing values is missing less than 20% of its entries), we can expect that dropping columns is unlikely to yield good results.  This is because we'd be throwing away a lot of valuable data, and so imputation will likely perform better."
      ]
     },
     "metadata": {},
     "output_type": "display_data"
    }
   ],
   "source": [
    "# Check your answer (Run this code cell to receive credit!)\n",
    "step_1.b.check()"
   ]
  },
  {
   "cell_type": "code",
   "execution_count": 8,
   "id": "1cb921ec",
   "metadata": {
    "execution": {
     "iopub.execute_input": "2022-09-30T13:38:14.297256Z",
     "iopub.status.busy": "2022-09-30T13:38:14.296784Z",
     "iopub.status.idle": "2022-09-30T13:38:14.302033Z",
     "shell.execute_reply": "2022-09-30T13:38:14.300858Z"
    },
    "papermill": {
     "duration": 0.018892,
     "end_time": "2022-09-30T13:38:14.304419",
     "exception": false,
     "start_time": "2022-09-30T13:38:14.285527",
     "status": "completed"
    },
    "tags": []
   },
   "outputs": [],
   "source": [
    "#step_1.b.hint()"
   ]
  },
  {
   "cell_type": "markdown",
   "id": "33989788",
   "metadata": {
    "papermill": {
     "duration": 0.009457,
     "end_time": "2022-09-30T13:38:14.323994",
     "exception": false,
     "start_time": "2022-09-30T13:38:14.314537",
     "status": "completed"
    },
    "tags": []
   },
   "source": [
    "To compare different approaches to dealing with missing values, you'll use the same `score_dataset()` function from the tutorial.  This function reports the [mean absolute error](https://en.wikipedia.org/wiki/Mean_absolute_error) (MAE) from a random forest model."
   ]
  },
  {
   "cell_type": "code",
   "execution_count": 9,
   "id": "c66fd5bf",
   "metadata": {
    "execution": {
     "iopub.execute_input": "2022-09-30T13:38:14.345811Z",
     "iopub.status.busy": "2022-09-30T13:38:14.345100Z",
     "iopub.status.idle": "2022-09-30T13:38:14.591543Z",
     "shell.execute_reply": "2022-09-30T13:38:14.590220Z"
    },
    "papermill": {
     "duration": 0.26066,
     "end_time": "2022-09-30T13:38:14.594576",
     "exception": false,
     "start_time": "2022-09-30T13:38:14.333916",
     "status": "completed"
    },
    "tags": []
   },
   "outputs": [],
   "source": [
    "from sklearn.ensemble import RandomForestRegressor\n",
    "from sklearn.metrics import mean_absolute_error\n",
    "\n",
    "# Function for comparing different approaches\n",
    "def score_dataset(X_train, X_valid, y_train, y_valid):\n",
    "    model = RandomForestRegressor(n_estimators=100, random_state=0)\n",
    "    model.fit(X_train, y_train)\n",
    "    preds = model.predict(X_valid)\n",
    "    return mean_absolute_error(y_valid, preds)"
   ]
  },
  {
   "cell_type": "markdown",
   "id": "412c7506",
   "metadata": {
    "papermill": {
     "duration": 0.010822,
     "end_time": "2022-09-30T13:38:14.616505",
     "exception": false,
     "start_time": "2022-09-30T13:38:14.605683",
     "status": "completed"
    },
    "tags": []
   },
   "source": [
    "# Step 2: Drop columns with missing values\n",
    "\n",
    "In this step, you'll preprocess the data in `X_train` and `X_valid` to remove columns with missing values.  Set the preprocessed DataFrames to `reduced_X_train` and `reduced_X_valid`, respectively.  "
   ]
  },
  {
   "cell_type": "code",
   "execution_count": 10,
   "id": "66ef50cd",
   "metadata": {
    "execution": {
     "iopub.execute_input": "2022-09-30T13:38:14.642024Z",
     "iopub.status.busy": "2022-09-30T13:38:14.641216Z",
     "iopub.status.idle": "2022-09-30T13:38:14.676111Z",
     "shell.execute_reply": "2022-09-30T13:38:14.674519Z"
    },
    "papermill": {
     "duration": 0.051357,
     "end_time": "2022-09-30T13:38:14.678948",
     "exception": false,
     "start_time": "2022-09-30T13:38:14.627591",
     "status": "completed"
    },
    "tags": []
   },
   "outputs": [
    {
     "data": {
      "application/javascript": [
       "parent.postMessage({\"jupyterEvent\": \"custom.exercise_interaction\", \"data\": {\"outcomeType\": 1, \"valueTowardsCompletion\": 1.0, \"interactionType\": 1, \"questionType\": 2, \"questionId\": \"2_DropMissing\", \"learnToolsVersion\": \"0.3.4\", \"failureMessage\": \"\", \"exceptionClass\": \"\", \"trace\": \"\"}}, \"*\")"
      ],
      "text/plain": [
       "<IPython.core.display.Javascript object>"
      ]
     },
     "metadata": {},
     "output_type": "display_data"
    },
    {
     "data": {
      "text/markdown": [
       "<span style=\"color:#33cc33\">Correct</span>"
      ],
      "text/plain": [
       "Correct"
      ]
     },
     "metadata": {},
     "output_type": "display_data"
    }
   ],
   "source": [
    "# Fill in the line below: get names of columns with missing values\n",
    "cols_with_missing_values = [col for col in X_train.columns\n",
    "                     if X_train[col].isnull().any()]\n",
    "\n",
    "# Fill in the lines below: drop columns in training and validation data\n",
    "reduced_X_train = X_train.drop(cols_with_missing_values, axis=1)\n",
    "reduced_X_valid = X_valid.drop(cols_with_missing_values, axis=1)\n",
    "# Check your answers\n",
    "step_2.check()"
   ]
  },
  {
   "cell_type": "code",
   "execution_count": 11,
   "id": "c90124e2",
   "metadata": {
    "execution": {
     "iopub.execute_input": "2022-09-30T13:38:14.703052Z",
     "iopub.status.busy": "2022-09-30T13:38:14.702538Z",
     "iopub.status.idle": "2022-09-30T13:38:14.707724Z",
     "shell.execute_reply": "2022-09-30T13:38:14.706336Z"
    },
    "papermill": {
     "duration": 0.020484,
     "end_time": "2022-09-30T13:38:14.710488",
     "exception": false,
     "start_time": "2022-09-30T13:38:14.690004",
     "status": "completed"
    },
    "tags": []
   },
   "outputs": [],
   "source": [
    "# Lines below will give you a hint or solution code\n",
    "#step_2.hint()\n",
    "#step_2.solution()"
   ]
  },
  {
   "cell_type": "markdown",
   "id": "3c9bed6e",
   "metadata": {
    "papermill": {
     "duration": 0.010067,
     "end_time": "2022-09-30T13:38:14.731169",
     "exception": false,
     "start_time": "2022-09-30T13:38:14.721102",
     "status": "completed"
    },
    "tags": []
   },
   "source": [
    "Run the next code cell without changes to obtain the MAE for this approach."
   ]
  },
  {
   "cell_type": "code",
   "execution_count": 12,
   "id": "160b6d19",
   "metadata": {
    "execution": {
     "iopub.execute_input": "2022-09-30T13:38:14.753792Z",
     "iopub.status.busy": "2022-09-30T13:38:14.753333Z",
     "iopub.status.idle": "2022-09-30T13:38:15.896775Z",
     "shell.execute_reply": "2022-09-30T13:38:15.895083Z"
    },
    "papermill": {
     "duration": 1.157823,
     "end_time": "2022-09-30T13:38:15.899357",
     "exception": false,
     "start_time": "2022-09-30T13:38:14.741534",
     "status": "completed"
    },
    "tags": []
   },
   "outputs": [
    {
     "name": "stdout",
     "output_type": "stream",
     "text": [
      "MAE (Drop columns with missing values):\n",
      "17837.82570776256\n"
     ]
    }
   ],
   "source": [
    "print(\"MAE (Drop columns with missing values):\")\n",
    "print(score_dataset(reduced_X_train, reduced_X_valid, y_train, y_valid))"
   ]
  },
  {
   "cell_type": "markdown",
   "id": "a9cea245",
   "metadata": {
    "papermill": {
     "duration": 0.010678,
     "end_time": "2022-09-30T13:38:15.921169",
     "exception": false,
     "start_time": "2022-09-30T13:38:15.910491",
     "status": "completed"
    },
    "tags": []
   },
   "source": [
    "# Step 3: Imputation\n",
    "\n",
    "### Part A\n",
    "\n",
    "Use the next code cell to impute missing values with the mean value along each column.  Set the preprocessed DataFrames to `imputed_X_train` and `imputed_X_valid`.  Make sure that the column names match those in `X_train` and `X_valid`."
   ]
  },
  {
   "cell_type": "code",
   "execution_count": 13,
   "id": "830e4527",
   "metadata": {
    "execution": {
     "iopub.execute_input": "2022-09-30T13:38:15.943821Z",
     "iopub.status.busy": "2022-09-30T13:38:15.943418Z",
     "iopub.status.idle": "2022-09-30T13:38:15.979712Z",
     "shell.execute_reply": "2022-09-30T13:38:15.978458Z"
    },
    "papermill": {
     "duration": 0.050457,
     "end_time": "2022-09-30T13:38:15.982204",
     "exception": false,
     "start_time": "2022-09-30T13:38:15.931747",
     "status": "completed"
    },
    "tags": []
   },
   "outputs": [
    {
     "data": {
      "application/javascript": [
       "parent.postMessage({\"jupyterEvent\": \"custom.exercise_interaction\", \"data\": {\"outcomeType\": 1, \"valueTowardsCompletion\": 1.0, \"interactionType\": 1, \"questionType\": 2, \"questionId\": \"3.1_ImputeCode\", \"learnToolsVersion\": \"0.3.4\", \"failureMessage\": \"\", \"exceptionClass\": \"\", \"trace\": \"\"}}, \"*\")"
      ],
      "text/plain": [
       "<IPython.core.display.Javascript object>"
      ]
     },
     "metadata": {},
     "output_type": "display_data"
    },
    {
     "data": {
      "text/markdown": [
       "<span style=\"color:#33cc33\">Correct</span>"
      ],
      "text/plain": [
       "Correct"
      ]
     },
     "metadata": {},
     "output_type": "display_data"
    }
   ],
   "source": [
    "from sklearn.impute import SimpleImputer\n",
    "\n",
    "imputer = SimpleImputer()\n",
    "# Fill in the lines below: imputation\n",
    "imputed_X_train = pd.DataFrame(imputer.fit_transform(X_train))\n",
    "imputed_X_valid = pd.DataFrame(imputer.transform(X_valid))\n",
    "\n",
    "# Fill in the lines below: imputation removed column names; put them back\n",
    "imputed_X_train.columns = X_train.columns\n",
    "imputed_X_valid.columns = X_valid.columns\n",
    "\n",
    "# Check your answers\n",
    "step_3.a.check()"
   ]
  },
  {
   "cell_type": "code",
   "execution_count": 14,
   "id": "a1ec5a50",
   "metadata": {
    "execution": {
     "iopub.execute_input": "2022-09-30T13:38:16.005861Z",
     "iopub.status.busy": "2022-09-30T13:38:16.005450Z",
     "iopub.status.idle": "2022-09-30T13:38:16.009900Z",
     "shell.execute_reply": "2022-09-30T13:38:16.008730Z"
    },
    "papermill": {
     "duration": 0.01899,
     "end_time": "2022-09-30T13:38:16.012178",
     "exception": false,
     "start_time": "2022-09-30T13:38:15.993188",
     "status": "completed"
    },
    "tags": []
   },
   "outputs": [],
   "source": [
    "# Lines below will give you a hint or solution code\n",
    "#step_3.a.hint()\n",
    "#step_3.a.solution()"
   ]
  },
  {
   "cell_type": "markdown",
   "id": "a485afaa",
   "metadata": {
    "papermill": {
     "duration": 0.010553,
     "end_time": "2022-09-30T13:38:16.034002",
     "exception": false,
     "start_time": "2022-09-30T13:38:16.023449",
     "status": "completed"
    },
    "tags": []
   },
   "source": [
    "Run the next code cell without changes to obtain the MAE for this approach."
   ]
  },
  {
   "cell_type": "code",
   "execution_count": 15,
   "id": "00060cec",
   "metadata": {
    "execution": {
     "iopub.execute_input": "2022-09-30T13:38:16.058659Z",
     "iopub.status.busy": "2022-09-30T13:38:16.057904Z",
     "iopub.status.idle": "2022-09-30T13:38:17.328319Z",
     "shell.execute_reply": "2022-09-30T13:38:17.326416Z"
    },
    "papermill": {
     "duration": 1.285746,
     "end_time": "2022-09-30T13:38:17.331083",
     "exception": false,
     "start_time": "2022-09-30T13:38:16.045337",
     "status": "completed"
    },
    "tags": []
   },
   "outputs": [
    {
     "name": "stdout",
     "output_type": "stream",
     "text": [
      "MAE (Imputation):\n",
      "18062.894611872147\n"
     ]
    }
   ],
   "source": [
    "print(\"MAE (Imputation):\")\n",
    "print(score_dataset(imputed_X_train, imputed_X_valid, y_train, y_valid))"
   ]
  },
  {
   "cell_type": "markdown",
   "id": "5c6f83a0",
   "metadata": {
    "papermill": {
     "duration": 0.010521,
     "end_time": "2022-09-30T13:38:17.352667",
     "exception": false,
     "start_time": "2022-09-30T13:38:17.342146",
     "status": "completed"
    },
    "tags": []
   },
   "source": [
    "### Part B\n",
    "\n",
    "Compare the MAE from each approach.  Does anything surprise you about the results?  Why do you think one approach performed better than the other?"
   ]
  },
  {
   "cell_type": "code",
   "execution_count": 16,
   "id": "1af5afb9",
   "metadata": {
    "execution": {
     "iopub.execute_input": "2022-09-30T13:38:17.376288Z",
     "iopub.status.busy": "2022-09-30T13:38:17.375893Z",
     "iopub.status.idle": "2022-09-30T13:38:17.385539Z",
     "shell.execute_reply": "2022-09-30T13:38:17.384436Z"
    },
    "papermill": {
     "duration": 0.024522,
     "end_time": "2022-09-30T13:38:17.388075",
     "exception": false,
     "start_time": "2022-09-30T13:38:17.363553",
     "status": "completed"
    },
    "tags": []
   },
   "outputs": [
    {
     "data": {
      "application/javascript": [
       "parent.postMessage({\"jupyterEvent\": \"custom.exercise_interaction\", \"data\": {\"outcomeType\": 1, \"valueTowardsCompletion\": 1.0, \"interactionType\": 1, \"questionType\": 4, \"questionId\": \"3.2_ImputeThought\", \"learnToolsVersion\": \"0.3.4\", \"failureMessage\": \"\", \"exceptionClass\": \"\", \"trace\": \"\"}}, \"*\")"
      ],
      "text/plain": [
       "<IPython.core.display.Javascript object>"
      ]
     },
     "metadata": {},
     "output_type": "display_data"
    },
    {
     "data": {
      "text/markdown": [
       "<span style=\"color:#33cc33\">Correct:</span> \n",
       "\n",
       "Given that thre are so few missing values in the dataset, we'd expect imputation to perform better than dropping columns entirely.  However, we see that dropping columns performs slightly better!  While this can probably partially be attributed to noise in the dataset, another potential explanation is that the imputation method is not a great match to this dataset.  That is, maybe instead of filling in the mean value, it makes more sense to set every missing value to a value of 0, to fill in the most frequently encountered value, or to use some other method.  For instance, consider the `GarageYrBlt` column (which indicates the year that the garage was built).  It's likely that in some cases, a missing value could indicate a house that does not have a garage.  Does it make more sense to fill in the median value along each column in this case?  Or could we get better results by filling in the minimum value along each column?  It's not quite clear what's best in this case, but perhaps we can rule out some options immediately - for instance, setting missing values in this column to 0 is likely to yield horrible results!"
      ],
      "text/plain": [
       "Correct: \n",
       "\n",
       "Given that thre are so few missing values in the dataset, we'd expect imputation to perform better than dropping columns entirely.  However, we see that dropping columns performs slightly better!  While this can probably partially be attributed to noise in the dataset, another potential explanation is that the imputation method is not a great match to this dataset.  That is, maybe instead of filling in the mean value, it makes more sense to set every missing value to a value of 0, to fill in the most frequently encountered value, or to use some other method.  For instance, consider the `GarageYrBlt` column (which indicates the year that the garage was built).  It's likely that in some cases, a missing value could indicate a house that does not have a garage.  Does it make more sense to fill in the median value along each column in this case?  Or could we get better results by filling in the minimum value along each column?  It's not quite clear what's best in this case, but perhaps we can rule out some options immediately - for instance, setting missing values in this column to 0 is likely to yield horrible results!"
      ]
     },
     "metadata": {},
     "output_type": "display_data"
    }
   ],
   "source": [
    "# Check your answer (Run this code cell to receive credit!)\n",
    "step_3.b.check()"
   ]
  },
  {
   "cell_type": "code",
   "execution_count": 17,
   "id": "32d810d3",
   "metadata": {
    "execution": {
     "iopub.execute_input": "2022-09-30T13:38:17.412518Z",
     "iopub.status.busy": "2022-09-30T13:38:17.412083Z",
     "iopub.status.idle": "2022-09-30T13:38:17.416932Z",
     "shell.execute_reply": "2022-09-30T13:38:17.415755Z"
    },
    "papermill": {
     "duration": 0.019689,
     "end_time": "2022-09-30T13:38:17.419287",
     "exception": false,
     "start_time": "2022-09-30T13:38:17.399598",
     "status": "completed"
    },
    "tags": []
   },
   "outputs": [],
   "source": [
    "#step_3.b.hint()"
   ]
  },
  {
   "cell_type": "markdown",
   "id": "7947011a",
   "metadata": {
    "papermill": {
     "duration": 0.010483,
     "end_time": "2022-09-30T13:38:17.440722",
     "exception": false,
     "start_time": "2022-09-30T13:38:17.430239",
     "status": "completed"
    },
    "tags": []
   },
   "source": [
    "# Step 4: Generate test predictions\n",
    "\n",
    "In this final step, you'll use any approach of your choosing to deal with missing values.  Once you've preprocessed the training and validation features, you'll train and evaluate a random forest model.  Then, you'll preprocess the test data before generating predictions that can be submitted to the competition!\n",
    "\n",
    "### Part A\n",
    "\n",
    "Use the next code cell to preprocess the training and validation data.  Set the preprocessed DataFrames to `final_X_train` and `final_X_valid`.  **You can use any approach of your choosing here!**  in order for this step to be marked as correct, you need only ensure:\n",
    "- the preprocessed DataFrames have the same number of columns,\n",
    "- the preprocessed DataFrames have no missing values, \n",
    "- `final_X_train` and `y_train` have the same number of rows, and\n",
    "- `final_X_valid` and `y_valid` have the same number of rows."
   ]
  },
  {
   "cell_type": "code",
   "execution_count": 18,
   "id": "2825c683",
   "metadata": {
    "execution": {
     "iopub.execute_input": "2022-09-30T13:38:17.464377Z",
     "iopub.status.busy": "2022-09-30T13:38:17.463936Z",
     "iopub.status.idle": "2022-09-30T13:38:17.497398Z",
     "shell.execute_reply": "2022-09-30T13:38:17.496109Z"
    },
    "papermill": {
     "duration": 0.048334,
     "end_time": "2022-09-30T13:38:17.499887",
     "exception": false,
     "start_time": "2022-09-30T13:38:17.451553",
     "status": "completed"
    },
    "tags": []
   },
   "outputs": [
    {
     "data": {
      "application/javascript": [
       "parent.postMessage({\"jupyterEvent\": \"custom.exercise_interaction\", \"data\": {\"outcomeType\": 1, \"valueTowardsCompletion\": 1.0, \"interactionType\": 1, \"questionType\": 2, \"questionId\": \"4.1_PredsCodeA\", \"learnToolsVersion\": \"0.3.4\", \"failureMessage\": \"\", \"exceptionClass\": \"\", \"trace\": \"\"}}, \"*\")"
      ],
      "text/plain": [
       "<IPython.core.display.Javascript object>"
      ]
     },
     "metadata": {},
     "output_type": "display_data"
    },
    {
     "data": {
      "text/markdown": [
       "<span style=\"color:#33cc33\">Correct</span>"
      ],
      "text/plain": [
       "Correct"
      ]
     },
     "metadata": {},
     "output_type": "display_data"
    }
   ],
   "source": [
    "# Preprocessed training and validation features\n",
    "last_imputer = SimpleImputer(strategy='median')\n",
    "final_X_train = pd.DataFrame(last_imputer.fit_transform(X_train))\n",
    "final_X_valid = pd.DataFrame(last_imputer.transform(X_valid))\n",
    "\n",
    "# Check your answers\n",
    "step_4.a.check()"
   ]
  },
  {
   "cell_type": "code",
   "execution_count": 19,
   "id": "7a9b9214",
   "metadata": {
    "execution": {
     "iopub.execute_input": "2022-09-30T13:38:17.525922Z",
     "iopub.status.busy": "2022-09-30T13:38:17.525467Z",
     "iopub.status.idle": "2022-09-30T13:38:17.530516Z",
     "shell.execute_reply": "2022-09-30T13:38:17.529253Z"
    },
    "papermill": {
     "duration": 0.021533,
     "end_time": "2022-09-30T13:38:17.532848",
     "exception": false,
     "start_time": "2022-09-30T13:38:17.511315",
     "status": "completed"
    },
    "tags": []
   },
   "outputs": [],
   "source": [
    "# Lines below will give you a hint or solution code\n",
    "#step_4.a.hint()\n",
    "#step_4.a.solution()"
   ]
  },
  {
   "cell_type": "markdown",
   "id": "7333f958",
   "metadata": {
    "papermill": {
     "duration": 0.010745,
     "end_time": "2022-09-30T13:38:17.555591",
     "exception": false,
     "start_time": "2022-09-30T13:38:17.544846",
     "status": "completed"
    },
    "tags": []
   },
   "source": [
    "Run the next code cell to train and evaluate a random forest model.  (*Note that we don't use the `score_dataset()` function above, because we will soon use the trained model to generate test predictions!*)"
   ]
  },
  {
   "cell_type": "code",
   "execution_count": 20,
   "id": "044cae80",
   "metadata": {
    "execution": {
     "iopub.execute_input": "2022-09-30T13:38:17.580422Z",
     "iopub.status.busy": "2022-09-30T13:38:17.579991Z",
     "iopub.status.idle": "2022-09-30T13:38:18.824471Z",
     "shell.execute_reply": "2022-09-30T13:38:18.823435Z"
    },
    "papermill": {
     "duration": 1.260179,
     "end_time": "2022-09-30T13:38:18.827140",
     "exception": false,
     "start_time": "2022-09-30T13:38:17.566961",
     "status": "completed"
    },
    "tags": []
   },
   "outputs": [
    {
     "name": "stdout",
     "output_type": "stream",
     "text": [
      "MAE (Your approach):\n",
      "17791.59899543379\n"
     ]
    }
   ],
   "source": [
    "# Define and fit model\n",
    "model = RandomForestRegressor(n_estimators=100, random_state=0)\n",
    "model.fit(final_X_train, y_train)\n",
    "\n",
    "# Get validation predictions and MAE\n",
    "preds_valid = model.predict(final_X_valid)\n",
    "print(\"MAE (Your approach):\")\n",
    "print(mean_absolute_error(y_valid, preds_valid))"
   ]
  },
  {
   "cell_type": "markdown",
   "id": "c54499dc",
   "metadata": {
    "papermill": {
     "duration": 0.010716,
     "end_time": "2022-09-30T13:38:18.848956",
     "exception": false,
     "start_time": "2022-09-30T13:38:18.838240",
     "status": "completed"
    },
    "tags": []
   },
   "source": [
    "### Part B\n",
    "\n",
    "Use the next code cell to preprocess your test data.  Make sure that you use a method that agrees with how you preprocessed the training and validation data, and set the preprocessed test features to `final_X_test`.\n",
    "\n",
    "Then, use the preprocessed test features and the trained model to generate test predictions in `preds_test`.\n",
    "\n",
    "In order for this step to be marked correct, you need only ensure:\n",
    "- the preprocessed test DataFrame has no missing values, and\n",
    "- `final_X_test` has the same number of rows as `X_test`."
   ]
  },
  {
   "cell_type": "code",
   "execution_count": 21,
   "id": "c82d02f3",
   "metadata": {
    "execution": {
     "iopub.execute_input": "2022-09-30T13:38:18.872814Z",
     "iopub.status.busy": "2022-09-30T13:38:18.872355Z",
     "iopub.status.idle": "2022-09-30T13:38:18.933192Z",
     "shell.execute_reply": "2022-09-30T13:38:18.932091Z"
    },
    "papermill": {
     "duration": 0.075952,
     "end_time": "2022-09-30T13:38:18.935950",
     "exception": false,
     "start_time": "2022-09-30T13:38:18.859998",
     "status": "completed"
    },
    "tags": []
   },
   "outputs": [
    {
     "data": {
      "application/javascript": [
       "parent.postMessage({\"jupyterEvent\": \"custom.exercise_interaction\", \"data\": {\"outcomeType\": 1, \"valueTowardsCompletion\": 1.0, \"interactionType\": 1, \"questionType\": 2, \"questionId\": \"4.2_PredsCodeB\", \"learnToolsVersion\": \"0.3.4\", \"failureMessage\": \"\", \"exceptionClass\": \"\", \"trace\": \"\"}}, \"*\")"
      ],
      "text/plain": [
       "<IPython.core.display.Javascript object>"
      ]
     },
     "metadata": {},
     "output_type": "display_data"
    },
    {
     "data": {
      "text/markdown": [
       "<span style=\"color:#33cc33\">Correct</span>"
      ],
      "text/plain": [
       "Correct"
      ]
     },
     "metadata": {},
     "output_type": "display_data"
    }
   ],
   "source": [
    "# Fill in the line below: preprocess test data\n",
    "final_X_test = pd.DataFrame(last_imputer.transform(X_test))\n",
    "\n",
    "# Fill in the line below: get test predictions\n",
    "preds_test = model.predict(final_X_test)\n",
    "\n",
    "# Check your answers\n",
    "step_4.b.check()"
   ]
  },
  {
   "cell_type": "code",
   "execution_count": 22,
   "id": "387b870c",
   "metadata": {
    "execution": {
     "iopub.execute_input": "2022-09-30T13:38:18.960396Z",
     "iopub.status.busy": "2022-09-30T13:38:18.959980Z",
     "iopub.status.idle": "2022-09-30T13:38:18.965331Z",
     "shell.execute_reply": "2022-09-30T13:38:18.964044Z"
    },
    "papermill": {
     "duration": 0.020501,
     "end_time": "2022-09-30T13:38:18.967974",
     "exception": false,
     "start_time": "2022-09-30T13:38:18.947473",
     "status": "completed"
    },
    "tags": []
   },
   "outputs": [],
   "source": [
    "# Lines below will give you a hint or solution code\n",
    "#step_4.b.hint()\n",
    "#step_4.b.solution()"
   ]
  },
  {
   "cell_type": "markdown",
   "id": "345892c4",
   "metadata": {
    "papermill": {
     "duration": 0.012459,
     "end_time": "2022-09-30T13:38:18.993221",
     "exception": false,
     "start_time": "2022-09-30T13:38:18.980762",
     "status": "completed"
    },
    "tags": []
   },
   "source": [
    "Run the next code cell without changes to save your results to a CSV file that can be submitted directly to the competition."
   ]
  },
  {
   "cell_type": "code",
   "execution_count": 23,
   "id": "eeb1e7b6",
   "metadata": {
    "execution": {
     "iopub.execute_input": "2022-09-30T13:38:19.019943Z",
     "iopub.status.busy": "2022-09-30T13:38:19.019504Z",
     "iopub.status.idle": "2022-09-30T13:38:19.033503Z",
     "shell.execute_reply": "2022-09-30T13:38:19.032439Z"
    },
    "papermill": {
     "duration": 0.030637,
     "end_time": "2022-09-30T13:38:19.036651",
     "exception": false,
     "start_time": "2022-09-30T13:38:19.006014",
     "status": "completed"
    },
    "tags": []
   },
   "outputs": [],
   "source": [
    "# Save test predictions to file\n",
    "output = pd.DataFrame({'Id': X_test.index,\n",
    "                       'SalePrice': preds_test})\n",
    "output.to_csv('submission.csv', index=False)"
   ]
  },
  {
   "cell_type": "markdown",
   "id": "3995ee2d",
   "metadata": {
    "papermill": {
     "duration": 0.012,
     "end_time": "2022-09-30T13:38:19.060643",
     "exception": false,
     "start_time": "2022-09-30T13:38:19.048643",
     "status": "completed"
    },
    "tags": []
   },
   "source": [
    "# Submit your results\n",
    "\n",
    "Once you have successfully completed Step 4, you're ready to submit your results to the leaderboard!  (_You also learned how to do this in the previous exercise.  If you need a reminder of how to do this, please use the instructions below._)  \n",
    "\n",
    "First, you'll need to join the competition if you haven't already.  So open a new window by clicking on [this link](https://www.kaggle.com/c/home-data-for-ml-course).  Then click on the **Join Competition** button.\n",
    "\n",
    "![join competition image](https://i.imgur.com/wLmFtH3.png)\n",
    "\n",
    "Next, follow the instructions below:\n",
    "1. Begin by clicking on the **Save Version** button in the top right corner of the window.  This will generate a pop-up window.  \n",
    "2. Ensure that the **Save and Run All** option is selected, and then click on the **Save** button.\n",
    "3. This generates a window in the bottom left corner of the notebook.  After it has finished running, click on the number to the right of the **Save Version** button.  This pulls up a list of versions on the right of the screen.  Click on the ellipsis **(...)** to the right of the most recent version, and select **Open in Viewer**.  This brings you into view mode of the same page. You will need to scroll down to get back to these instructions.\n",
    "4. Click on the **Output** tab on the right of the screen.  Then, click on the file you would like to submit, and click on the **Submit** button to submit your results to the leaderboard.\n",
    "\n",
    "You have now successfully submitted to the competition!\n",
    "\n",
    "If you want to keep working to improve your performance, select the **Edit** button in the top right of the screen. Then you can change your code and repeat the process. There's a lot of room to improve, and you will climb up the leaderboard as you work.\n",
    "\n",
    "\n",
    "# Keep going\n",
    "\n",
    "Move on to learn what **[categorical variables](https://www.kaggle.com/alexisbcook/categorical-variables)** are, along with how to incorporate them into your machine learning models.  Categorical variables are very common in real-world data, but you'll get an error if you try to plug them into your models without processing them first!"
   ]
  },
  {
   "cell_type": "markdown",
   "id": "769e8def",
   "metadata": {
    "papermill": {
     "duration": 0.012127,
     "end_time": "2022-09-30T13:38:19.085159",
     "exception": false,
     "start_time": "2022-09-30T13:38:19.073032",
     "status": "completed"
    },
    "tags": []
   },
   "source": [
    "---\n",
    "\n",
    "\n",
    "\n",
    "\n",
    "*Have questions or comments? Visit the [course discussion forum](https://www.kaggle.com/learn/intermediate-machine-learning/discussion) to chat with other learners.*"
   ]
  }
 ],
 "metadata": {
  "kernelspec": {
   "display_name": "Python 3",
   "language": "python",
   "name": "python3"
  },
  "language_info": {
   "codemirror_mode": {
    "name": "ipython",
    "version": 3
   },
   "file_extension": ".py",
   "mimetype": "text/x-python",
   "name": "python",
   "nbconvert_exporter": "python",
   "pygments_lexer": "ipython3",
   "version": "3.7.12"
  },
  "papermill": {
   "default_parameters": {},
   "duration": 17.06869,
   "end_time": "2022-09-30T13:38:19.920813",
   "environment_variables": {},
   "exception": null,
   "input_path": "__notebook__.ipynb",
   "output_path": "__notebook__.ipynb",
   "parameters": {},
   "start_time": "2022-09-30T13:38:02.852123",
   "version": "2.3.4"
  }
 },
 "nbformat": 4,
 "nbformat_minor": 5
}
